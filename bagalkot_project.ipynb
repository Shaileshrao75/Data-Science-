{
  "nbformat": 4,
  "nbformat_minor": 0,
  "metadata": {
    "colab": {
      "provenance": [],
      "toc_visible": true,
      "authorship_tag": "ABX9TyNZEr7IdfmkOwWn5MlyL6sQ",
      "include_colab_link": true
    },
    "kernelspec": {
      "name": "ir",
      "display_name": "R"
    },
    "language_info": {
      "name": "R"
    }
  },
  "cells": [
    {
      "cell_type": "markdown",
      "metadata": {
        "id": "view-in-github",
        "colab_type": "text"
      },
      "source": [
        "<a href=\"https://colab.research.google.com/github/Shaileshrao75/Data-Science-/blob/main/bagalkot_project.ipynb\" target=\"_parent\"><img src=\"https://colab.research.google.com/assets/colab-badge.svg\" alt=\"Open In Colab\"/></a>"
      ]
    },
    {
      "cell_type": "markdown",
      "source": [
        "# Loading the library Function"
      ],
      "metadata": {
        "id": "j8XX5M-Kp57R"
      }
    },
    {
      "cell_type": "code",
      "execution_count": null,
      "metadata": {
        "colab": {
          "base_uri": "https://localhost:8080/",
          "height": 286
        },
        "id": "EYRk4gcFEI14",
        "outputId": "9142ec0e-13f8-4e46-c47c-3316ab42bccf"
      },
      "outputs": [
        {
          "output_type": "display_data",
          "data": {
            "text/html": [
              "<table class=\"dataframe\">\n",
              "<caption>A tibble: 6 × 11</caption>\n",
              "<thead>\n",
              "\t<tr><th scope=col>year</th><th scope=col>yield</th><th scope=col>NOVEMBERT</th><th scope=col>FEBRAUARYT</th><th scope=col>MARCHT</th><th scope=col>NOVEMBERH</th><th scope=col>DECEMBERH</th><th scope=col>MARCHH</th><th scope=col>NOVEMBERN</th><th scope=col>JANUARYN</th><th scope=col>MARCHN</th></tr>\n",
              "\t<tr><th scope=col>&lt;dbl&gt;</th><th scope=col>&lt;dbl&gt;</th><th scope=col>&lt;dbl&gt;</th><th scope=col>&lt;dbl&gt;</th><th scope=col>&lt;dbl&gt;</th><th scope=col>&lt;dbl&gt;</th><th scope=col>&lt;dbl&gt;</th><th scope=col>&lt;dbl&gt;</th><th scope=col>&lt;dbl&gt;</th><th scope=col>&lt;dbl&gt;</th><th scope=col>&lt;dbl&gt;</th></tr>\n",
              "</thead>\n",
              "<tbody>\n",
              "\t<tr><td>2002</td><td>0.63</td><td>24.41</td><td>25.48</td><td>28.60</td><td>64.81</td><td>60.54</td><td>50.40</td><td>4178.541</td><td>3509.471</td><td>2784.059</td></tr>\n",
              "\t<tr><td>2003</td><td>0.08</td><td>25.34</td><td>26.78</td><td>29.23</td><td>60.85</td><td>57.01</td><td>54.80</td><td>3566.976</td><td>3651.380</td><td>2713.348</td></tr>\n",
              "\t<tr><td>2004</td><td>0.69</td><td>24.45</td><td>25.83</td><td>29.97</td><td>61.93</td><td>55.00</td><td>46.70</td><td>3445.540</td><td>2779.729</td><td>2765.790</td></tr>\n",
              "\t<tr><td>2005</td><td>1.09</td><td>22.99</td><td>25.92</td><td>28.65</td><td>61.77</td><td>59.69</td><td>47.21</td><td>3894.718</td><td>3103.729</td><td>2862.102</td></tr>\n",
              "\t<tr><td>2006</td><td>0.51</td><td>24.96</td><td>25.08</td><td>27.62</td><td>69.83</td><td>60.43</td><td>54.05</td><td>4254.572</td><td>3241.159</td><td>2835.936</td></tr>\n",
              "\t<tr><td>2007</td><td>1.44</td><td>23.98</td><td>25.20</td><td>29.03</td><td>62.40</td><td>60.82</td><td>50.99</td><td>4375.213</td><td>2998.929</td><td>2738.329</td></tr>\n",
              "</tbody>\n",
              "</table>\n"
            ],
            "text/markdown": "\nA tibble: 6 × 11\n\n| year &lt;dbl&gt; | yield &lt;dbl&gt; | NOVEMBERT &lt;dbl&gt; | FEBRAUARYT &lt;dbl&gt; | MARCHT &lt;dbl&gt; | NOVEMBERH &lt;dbl&gt; | DECEMBERH &lt;dbl&gt; | MARCHH &lt;dbl&gt; | NOVEMBERN &lt;dbl&gt; | JANUARYN &lt;dbl&gt; | MARCHN &lt;dbl&gt; |\n|---|---|---|---|---|---|---|---|---|---|---|\n| 2002 | 0.63 | 24.41 | 25.48 | 28.60 | 64.81 | 60.54 | 50.40 | 4178.541 | 3509.471 | 2784.059 |\n| 2003 | 0.08 | 25.34 | 26.78 | 29.23 | 60.85 | 57.01 | 54.80 | 3566.976 | 3651.380 | 2713.348 |\n| 2004 | 0.69 | 24.45 | 25.83 | 29.97 | 61.93 | 55.00 | 46.70 | 3445.540 | 2779.729 | 2765.790 |\n| 2005 | 1.09 | 22.99 | 25.92 | 28.65 | 61.77 | 59.69 | 47.21 | 3894.718 | 3103.729 | 2862.102 |\n| 2006 | 0.51 | 24.96 | 25.08 | 27.62 | 69.83 | 60.43 | 54.05 | 4254.572 | 3241.159 | 2835.936 |\n| 2007 | 1.44 | 23.98 | 25.20 | 29.03 | 62.40 | 60.82 | 50.99 | 4375.213 | 2998.929 | 2738.329 |\n\n",
            "text/latex": "A tibble: 6 × 11\n\\begin{tabular}{lllllllllll}\n year & yield & NOVEMBERT & FEBRAUARYT & MARCHT & NOVEMBERH & DECEMBERH & MARCHH & NOVEMBERN & JANUARYN & MARCHN\\\\\n <dbl> & <dbl> & <dbl> & <dbl> & <dbl> & <dbl> & <dbl> & <dbl> & <dbl> & <dbl> & <dbl>\\\\\n\\hline\n\t 2002 & 0.63 & 24.41 & 25.48 & 28.60 & 64.81 & 60.54 & 50.40 & 4178.541 & 3509.471 & 2784.059\\\\\n\t 2003 & 0.08 & 25.34 & 26.78 & 29.23 & 60.85 & 57.01 & 54.80 & 3566.976 & 3651.380 & 2713.348\\\\\n\t 2004 & 0.69 & 24.45 & 25.83 & 29.97 & 61.93 & 55.00 & 46.70 & 3445.540 & 2779.729 & 2765.790\\\\\n\t 2005 & 1.09 & 22.99 & 25.92 & 28.65 & 61.77 & 59.69 & 47.21 & 3894.718 & 3103.729 & 2862.102\\\\\n\t 2006 & 0.51 & 24.96 & 25.08 & 27.62 & 69.83 & 60.43 & 54.05 & 4254.572 & 3241.159 & 2835.936\\\\\n\t 2007 & 1.44 & 23.98 & 25.20 & 29.03 & 62.40 & 60.82 & 50.99 & 4375.213 & 2998.929 & 2738.329\\\\\n\\end{tabular}\n",
            "text/plain": [
              "  year yield NOVEMBERT FEBRAUARYT MARCHT NOVEMBERH DECEMBERH MARCHH NOVEMBERN\n",
              "1 2002 0.63  24.41     25.48      28.60  64.81     60.54     50.40  4178.541 \n",
              "2 2003 0.08  25.34     26.78      29.23  60.85     57.01     54.80  3566.976 \n",
              "3 2004 0.69  24.45     25.83      29.97  61.93     55.00     46.70  3445.540 \n",
              "4 2005 1.09  22.99     25.92      28.65  61.77     59.69     47.21  3894.718 \n",
              "5 2006 0.51  24.96     25.08      27.62  69.83     60.43     54.05  4254.572 \n",
              "6 2007 1.44  23.98     25.20      29.03  62.40     60.82     50.99  4375.213 \n",
              "  JANUARYN MARCHN  \n",
              "1 3509.471 2784.059\n",
              "2 3651.380 2713.348\n",
              "3 2779.729 2765.790\n",
              "4 3103.729 2862.102\n",
              "5 3241.159 2835.936\n",
              "6 2998.929 2738.329"
            ]
          },
          "metadata": {}
        }
      ],
      "source": [
        "# prompt: /content/rabi.xlsx  load the excel file\n",
        "\n",
        "library(readxl)\n",
        "df <- read_excel(\"/content/rabi.xlsx\")\n",
        "head(df)\n"
      ]
    },
    {
      "cell_type": "markdown",
      "source": [
        "## Converting the data into MAtrix and Numeric\n"
      ],
      "metadata": {
        "id": "KaS7jtCup4In"
      }
    },
    {
      "cell_type": "code",
      "source": [
        "# prompt: change the above matrix to numeric and\n",
        "\n",
        "df[, c(\"NOVEMBERT\", \"FEBRAUARYT\", \"MARCHT\", \"NOVEMBERH\", \"DECEMBERH\", \"MARCHH\", \"NOVEMBERN\", \"JANUARYN\", \"MARCHN\")] <- sapply(df[, c(\"NOVEMBERT\", \"FEBRAUARYT\", \"MARCHT\", \"NOVEMBERH\", \"DECEMBERH\", \"MARCHH\", \"NOVEMBERN\", \"JANUARYN\", \"MARCHN\")], as.numeric)\n",
        "head(df)\n",
        "cor(df$yield, df[, c(\"NOVEMBERT\", \"FEBRAUARYT\", \"MARCHT\", \"NOVEMBERH\", \"DECEMBERH\", \"MARCHH\", \"NOVEMBERN\", \"JANUARYN\", \"MARCHN\")])\n"
      ],
      "metadata": {
        "colab": {
          "base_uri": "https://localhost:8080/",
          "height": 367
        },
        "id": "JaiKTD6zFjOV",
        "outputId": "f0295931-cb49-4c96-88b2-d7c9f9de0ff4"
      },
      "execution_count": null,
      "outputs": [
        {
          "output_type": "display_data",
          "data": {
            "text/html": [
              "<table class=\"dataframe\">\n",
              "<caption>A tibble: 6 × 11</caption>\n",
              "<thead>\n",
              "\t<tr><th scope=col>year</th><th scope=col>yield</th><th scope=col>NOVEMBERT</th><th scope=col>FEBRAUARYT</th><th scope=col>MARCHT</th><th scope=col>NOVEMBERH</th><th scope=col>DECEMBERH</th><th scope=col>MARCHH</th><th scope=col>NOVEMBERN</th><th scope=col>JANUARYN</th><th scope=col>MARCHN</th></tr>\n",
              "\t<tr><th scope=col>&lt;dbl&gt;</th><th scope=col>&lt;dbl&gt;</th><th scope=col>&lt;dbl&gt;</th><th scope=col>&lt;dbl&gt;</th><th scope=col>&lt;dbl&gt;</th><th scope=col>&lt;dbl&gt;</th><th scope=col>&lt;dbl&gt;</th><th scope=col>&lt;dbl&gt;</th><th scope=col>&lt;dbl&gt;</th><th scope=col>&lt;dbl&gt;</th><th scope=col>&lt;dbl&gt;</th></tr>\n",
              "</thead>\n",
              "<tbody>\n",
              "\t<tr><td>2002</td><td>0.63</td><td>24.41</td><td>25.48</td><td>28.60</td><td>64.81</td><td>60.54</td><td>50.40</td><td>4178.541</td><td>3509.471</td><td>2784.059</td></tr>\n",
              "\t<tr><td>2003</td><td>0.08</td><td>25.34</td><td>26.78</td><td>29.23</td><td>60.85</td><td>57.01</td><td>54.80</td><td>3566.976</td><td>3651.380</td><td>2713.348</td></tr>\n",
              "\t<tr><td>2004</td><td>0.69</td><td>24.45</td><td>25.83</td><td>29.97</td><td>61.93</td><td>55.00</td><td>46.70</td><td>3445.540</td><td>2779.729</td><td>2765.790</td></tr>\n",
              "\t<tr><td>2005</td><td>1.09</td><td>22.99</td><td>25.92</td><td>28.65</td><td>61.77</td><td>59.69</td><td>47.21</td><td>3894.718</td><td>3103.729</td><td>2862.102</td></tr>\n",
              "\t<tr><td>2006</td><td>0.51</td><td>24.96</td><td>25.08</td><td>27.62</td><td>69.83</td><td>60.43</td><td>54.05</td><td>4254.572</td><td>3241.159</td><td>2835.936</td></tr>\n",
              "\t<tr><td>2007</td><td>1.44</td><td>23.98</td><td>25.20</td><td>29.03</td><td>62.40</td><td>60.82</td><td>50.99</td><td>4375.213</td><td>2998.929</td><td>2738.329</td></tr>\n",
              "</tbody>\n",
              "</table>\n"
            ],
            "text/markdown": "\nA tibble: 6 × 11\n\n| year &lt;dbl&gt; | yield &lt;dbl&gt; | NOVEMBERT &lt;dbl&gt; | FEBRAUARYT &lt;dbl&gt; | MARCHT &lt;dbl&gt; | NOVEMBERH &lt;dbl&gt; | DECEMBERH &lt;dbl&gt; | MARCHH &lt;dbl&gt; | NOVEMBERN &lt;dbl&gt; | JANUARYN &lt;dbl&gt; | MARCHN &lt;dbl&gt; |\n|---|---|---|---|---|---|---|---|---|---|---|\n| 2002 | 0.63 | 24.41 | 25.48 | 28.60 | 64.81 | 60.54 | 50.40 | 4178.541 | 3509.471 | 2784.059 |\n| 2003 | 0.08 | 25.34 | 26.78 | 29.23 | 60.85 | 57.01 | 54.80 | 3566.976 | 3651.380 | 2713.348 |\n| 2004 | 0.69 | 24.45 | 25.83 | 29.97 | 61.93 | 55.00 | 46.70 | 3445.540 | 2779.729 | 2765.790 |\n| 2005 | 1.09 | 22.99 | 25.92 | 28.65 | 61.77 | 59.69 | 47.21 | 3894.718 | 3103.729 | 2862.102 |\n| 2006 | 0.51 | 24.96 | 25.08 | 27.62 | 69.83 | 60.43 | 54.05 | 4254.572 | 3241.159 | 2835.936 |\n| 2007 | 1.44 | 23.98 | 25.20 | 29.03 | 62.40 | 60.82 | 50.99 | 4375.213 | 2998.929 | 2738.329 |\n\n",
            "text/latex": "A tibble: 6 × 11\n\\begin{tabular}{lllllllllll}\n year & yield & NOVEMBERT & FEBRAUARYT & MARCHT & NOVEMBERH & DECEMBERH & MARCHH & NOVEMBERN & JANUARYN & MARCHN\\\\\n <dbl> & <dbl> & <dbl> & <dbl> & <dbl> & <dbl> & <dbl> & <dbl> & <dbl> & <dbl> & <dbl>\\\\\n\\hline\n\t 2002 & 0.63 & 24.41 & 25.48 & 28.60 & 64.81 & 60.54 & 50.40 & 4178.541 & 3509.471 & 2784.059\\\\\n\t 2003 & 0.08 & 25.34 & 26.78 & 29.23 & 60.85 & 57.01 & 54.80 & 3566.976 & 3651.380 & 2713.348\\\\\n\t 2004 & 0.69 & 24.45 & 25.83 & 29.97 & 61.93 & 55.00 & 46.70 & 3445.540 & 2779.729 & 2765.790\\\\\n\t 2005 & 1.09 & 22.99 & 25.92 & 28.65 & 61.77 & 59.69 & 47.21 & 3894.718 & 3103.729 & 2862.102\\\\\n\t 2006 & 0.51 & 24.96 & 25.08 & 27.62 & 69.83 & 60.43 & 54.05 & 4254.572 & 3241.159 & 2835.936\\\\\n\t 2007 & 1.44 & 23.98 & 25.20 & 29.03 & 62.40 & 60.82 & 50.99 & 4375.213 & 2998.929 & 2738.329\\\\\n\\end{tabular}\n",
            "text/plain": [
              "  year yield NOVEMBERT FEBRAUARYT MARCHT NOVEMBERH DECEMBERH MARCHH NOVEMBERN\n",
              "1 2002 0.63  24.41     25.48      28.60  64.81     60.54     50.40  4178.541 \n",
              "2 2003 0.08  25.34     26.78      29.23  60.85     57.01     54.80  3566.976 \n",
              "3 2004 0.69  24.45     25.83      29.97  61.93     55.00     46.70  3445.540 \n",
              "4 2005 1.09  22.99     25.92      28.65  61.77     59.69     47.21  3894.718 \n",
              "5 2006 0.51  24.96     25.08      27.62  69.83     60.43     54.05  4254.572 \n",
              "6 2007 1.44  23.98     25.20      29.03  62.40     60.82     50.99  4375.213 \n",
              "  JANUARYN MARCHN  \n",
              "1 3509.471 2784.059\n",
              "2 3651.380 2713.348\n",
              "3 2779.729 2765.790\n",
              "4 3103.729 2862.102\n",
              "5 3241.159 2835.936\n",
              "6 2998.929 2738.329"
            ]
          },
          "metadata": {}
        },
        {
          "output_type": "display_data",
          "data": {
            "text/html": [
              "<table class=\"dataframe\">\n",
              "<caption>A matrix: 1 × 9 of type dbl</caption>\n",
              "<thead>\n",
              "\t<tr><th scope=col>NOVEMBERT</th><th scope=col>FEBRAUARYT</th><th scope=col>MARCHT</th><th scope=col>NOVEMBERH</th><th scope=col>DECEMBERH</th><th scope=col>MARCHH</th><th scope=col>NOVEMBERN</th><th scope=col>JANUARYN</th><th scope=col>MARCHN</th></tr>\n",
              "</thead>\n",
              "<tbody>\n",
              "\t<tr><td>-0.2571901</td><td>-0.1686435</td><td>-0.1295021</td><td>0.3302294</td><td>0.5329732</td><td>-0.09150205</td><td>0.2480722</td><td>0.0622377</td><td>0.3166649</td></tr>\n",
              "</tbody>\n",
              "</table>\n"
            ],
            "text/markdown": "\nA matrix: 1 × 9 of type dbl\n\n| NOVEMBERT | FEBRAUARYT | MARCHT | NOVEMBERH | DECEMBERH | MARCHH | NOVEMBERN | JANUARYN | MARCHN |\n|---|---|---|---|---|---|---|---|---|\n| -0.2571901 | -0.1686435 | -0.1295021 | 0.3302294 | 0.5329732 | -0.09150205 | 0.2480722 | 0.0622377 | 0.3166649 |\n\n",
            "text/latex": "A matrix: 1 × 9 of type dbl\n\\begin{tabular}{lllllllll}\n NOVEMBERT & FEBRAUARYT & MARCHT & NOVEMBERH & DECEMBERH & MARCHH & NOVEMBERN & JANUARYN & MARCHN\\\\\n\\hline\n\t -0.2571901 & -0.1686435 & -0.1295021 & 0.3302294 & 0.5329732 & -0.09150205 & 0.2480722 & 0.0622377 & 0.3166649\\\\\n\\end{tabular}\n",
            "text/plain": [
              "     NOVEMBERT  FEBRAUARYT MARCHT     NOVEMBERH DECEMBERH MARCHH      NOVEMBERN\n",
              "[1,] -0.2571901 -0.1686435 -0.1295021 0.3302294 0.5329732 -0.09150205 0.2480722\n",
              "     JANUARYN  MARCHN   \n",
              "[1,] 0.0622377 0.3166649"
            ]
          },
          "metadata": {}
        }
      ]
    },
    {
      "cell_type": "markdown",
      "source": [
        "## Summary of the selected data\n"
      ],
      "metadata": {
        "id": "mHJqrKf9qCYH"
      }
    },
    {
      "cell_type": "code",
      "source": [
        "summary(df)"
      ],
      "metadata": {
        "colab": {
          "base_uri": "https://localhost:8080/",
          "height": 382
        },
        "id": "0uXUB9HQFve8",
        "outputId": "3b9090a7-8cdc-4915-8d77-cda0281722be"
      },
      "execution_count": null,
      "outputs": [
        {
          "output_type": "display_data",
          "data": {
            "text/plain": [
              "      year          yield          NOVEMBERT       FEBRAUARYT   \n",
              " Min.   :2002   Min.   :0.0800   Min.   :22.99   Min.   :23.75  \n",
              " 1st Qu.:2007   1st Qu.:0.6900   1st Qu.:24.30   1st Qu.:25.20  \n",
              " Median :2012   Median :1.0600   Median :24.58   Median :25.66  \n",
              " Mean   :2012   Mean   :0.9695   Mean   :24.59   Mean   :25.68  \n",
              " 3rd Qu.:2017   3rd Qu.:1.2100   3rd Qu.:24.96   3rd Qu.:26.16  \n",
              " Max.   :2022   Max.   :1.4400   Max.   :25.62   Max.   :27.39  \n",
              "     MARCHT        NOVEMBERH       DECEMBERH         MARCHH        NOVEMBERN   \n",
              " Min.   :26.83   Min.   :55.31   Min.   :55.00   Min.   :42.89   Min.   :3446  \n",
              " 1st Qu.:28.47   1st Qu.:61.69   1st Qu.:59.45   1st Qu.:46.70   1st Qu.:4179  \n",
              " Median :28.60   Median :64.81   Median :60.57   Median :50.40   Median :4375  \n",
              " Mean   :28.67   Mean   :64.37   Mean   :60.88   Mean   :49.56   Mean   :4405  \n",
              " 3rd Qu.:29.19   3rd Qu.:66.47   3rd Qu.:61.91   3rd Qu.:52.53   3rd Qu.:4806  \n",
              " Max.   :30.19   Max.   :75.87   Max.   :71.35   Max.   :57.48   Max.   :5465  \n",
              "    JANUARYN        MARCHN    \n",
              " Min.   :2780   Min.   :2713  \n",
              " 1st Qu.:3222   1st Qu.:2836  \n",
              " Median :3425   Median :2987  \n",
              " Mean   :3440   Mean   :3078  \n",
              " 3rd Qu.:3577   3rd Qu.:3126  \n",
              " Max.   :4224   Max.   :4684  "
            ]
          },
          "metadata": {}
        }
      ]
    },
    {
      "cell_type": "markdown",
      "source": [
        "## Remove the column named \"year\""
      ],
      "metadata": {
        "id": "ay6xPeyxqR2H"
      }
    },
    {
      "cell_type": "code",
      "source": [
        "# prompt: remove year column\n",
        "\n",
        "df <- df[ , !(names(df) %in% c(\"year\"))]\n",
        "head(df)\n"
      ],
      "metadata": {
        "colab": {
          "base_uri": "https://localhost:8080/",
          "height": 286
        },
        "id": "_8thzMO2Fz2E",
        "outputId": "326d575d-1028-43d9-ccd6-bbe1e030e9c4"
      },
      "execution_count": null,
      "outputs": [
        {
          "output_type": "display_data",
          "data": {
            "text/html": [
              "<table class=\"dataframe\">\n",
              "<caption>A tibble: 6 × 10</caption>\n",
              "<thead>\n",
              "\t<tr><th scope=col>yield</th><th scope=col>NOVEMBERT</th><th scope=col>FEBRAUARYT</th><th scope=col>MARCHT</th><th scope=col>NOVEMBERH</th><th scope=col>DECEMBERH</th><th scope=col>MARCHH</th><th scope=col>NOVEMBERN</th><th scope=col>JANUARYN</th><th scope=col>MARCHN</th></tr>\n",
              "\t<tr><th scope=col>&lt;dbl&gt;</th><th scope=col>&lt;dbl&gt;</th><th scope=col>&lt;dbl&gt;</th><th scope=col>&lt;dbl&gt;</th><th scope=col>&lt;dbl&gt;</th><th scope=col>&lt;dbl&gt;</th><th scope=col>&lt;dbl&gt;</th><th scope=col>&lt;dbl&gt;</th><th scope=col>&lt;dbl&gt;</th><th scope=col>&lt;dbl&gt;</th></tr>\n",
              "</thead>\n",
              "<tbody>\n",
              "\t<tr><td>0.63</td><td>24.41</td><td>25.48</td><td>28.60</td><td>64.81</td><td>60.54</td><td>50.40</td><td>4178.541</td><td>3509.471</td><td>2784.059</td></tr>\n",
              "\t<tr><td>0.08</td><td>25.34</td><td>26.78</td><td>29.23</td><td>60.85</td><td>57.01</td><td>54.80</td><td>3566.976</td><td>3651.380</td><td>2713.348</td></tr>\n",
              "\t<tr><td>0.69</td><td>24.45</td><td>25.83</td><td>29.97</td><td>61.93</td><td>55.00</td><td>46.70</td><td>3445.540</td><td>2779.729</td><td>2765.790</td></tr>\n",
              "\t<tr><td>1.09</td><td>22.99</td><td>25.92</td><td>28.65</td><td>61.77</td><td>59.69</td><td>47.21</td><td>3894.718</td><td>3103.729</td><td>2862.102</td></tr>\n",
              "\t<tr><td>0.51</td><td>24.96</td><td>25.08</td><td>27.62</td><td>69.83</td><td>60.43</td><td>54.05</td><td>4254.572</td><td>3241.159</td><td>2835.936</td></tr>\n",
              "\t<tr><td>1.44</td><td>23.98</td><td>25.20</td><td>29.03</td><td>62.40</td><td>60.82</td><td>50.99</td><td>4375.213</td><td>2998.929</td><td>2738.329</td></tr>\n",
              "</tbody>\n",
              "</table>\n"
            ],
            "text/markdown": "\nA tibble: 6 × 10\n\n| yield &lt;dbl&gt; | NOVEMBERT &lt;dbl&gt; | FEBRAUARYT &lt;dbl&gt; | MARCHT &lt;dbl&gt; | NOVEMBERH &lt;dbl&gt; | DECEMBERH &lt;dbl&gt; | MARCHH &lt;dbl&gt; | NOVEMBERN &lt;dbl&gt; | JANUARYN &lt;dbl&gt; | MARCHN &lt;dbl&gt; |\n|---|---|---|---|---|---|---|---|---|---|\n| 0.63 | 24.41 | 25.48 | 28.60 | 64.81 | 60.54 | 50.40 | 4178.541 | 3509.471 | 2784.059 |\n| 0.08 | 25.34 | 26.78 | 29.23 | 60.85 | 57.01 | 54.80 | 3566.976 | 3651.380 | 2713.348 |\n| 0.69 | 24.45 | 25.83 | 29.97 | 61.93 | 55.00 | 46.70 | 3445.540 | 2779.729 | 2765.790 |\n| 1.09 | 22.99 | 25.92 | 28.65 | 61.77 | 59.69 | 47.21 | 3894.718 | 3103.729 | 2862.102 |\n| 0.51 | 24.96 | 25.08 | 27.62 | 69.83 | 60.43 | 54.05 | 4254.572 | 3241.159 | 2835.936 |\n| 1.44 | 23.98 | 25.20 | 29.03 | 62.40 | 60.82 | 50.99 | 4375.213 | 2998.929 | 2738.329 |\n\n",
            "text/latex": "A tibble: 6 × 10\n\\begin{tabular}{llllllllll}\n yield & NOVEMBERT & FEBRAUARYT & MARCHT & NOVEMBERH & DECEMBERH & MARCHH & NOVEMBERN & JANUARYN & MARCHN\\\\\n <dbl> & <dbl> & <dbl> & <dbl> & <dbl> & <dbl> & <dbl> & <dbl> & <dbl> & <dbl>\\\\\n\\hline\n\t 0.63 & 24.41 & 25.48 & 28.60 & 64.81 & 60.54 & 50.40 & 4178.541 & 3509.471 & 2784.059\\\\\n\t 0.08 & 25.34 & 26.78 & 29.23 & 60.85 & 57.01 & 54.80 & 3566.976 & 3651.380 & 2713.348\\\\\n\t 0.69 & 24.45 & 25.83 & 29.97 & 61.93 & 55.00 & 46.70 & 3445.540 & 2779.729 & 2765.790\\\\\n\t 1.09 & 22.99 & 25.92 & 28.65 & 61.77 & 59.69 & 47.21 & 3894.718 & 3103.729 & 2862.102\\\\\n\t 0.51 & 24.96 & 25.08 & 27.62 & 69.83 & 60.43 & 54.05 & 4254.572 & 3241.159 & 2835.936\\\\\n\t 1.44 & 23.98 & 25.20 & 29.03 & 62.40 & 60.82 & 50.99 & 4375.213 & 2998.929 & 2738.329\\\\\n\\end{tabular}\n",
            "text/plain": [
              "  yield NOVEMBERT FEBRAUARYT MARCHT NOVEMBERH DECEMBERH MARCHH NOVEMBERN\n",
              "1 0.63  24.41     25.48      28.60  64.81     60.54     50.40  4178.541 \n",
              "2 0.08  25.34     26.78      29.23  60.85     57.01     54.80  3566.976 \n",
              "3 0.69  24.45     25.83      29.97  61.93     55.00     46.70  3445.540 \n",
              "4 1.09  22.99     25.92      28.65  61.77     59.69     47.21  3894.718 \n",
              "5 0.51  24.96     25.08      27.62  69.83     60.43     54.05  4254.572 \n",
              "6 1.44  23.98     25.20      29.03  62.40     60.82     50.99  4375.213 \n",
              "  JANUARYN MARCHN  \n",
              "1 3509.471 2784.059\n",
              "2 3651.380 2713.348\n",
              "3 2779.729 2765.790\n",
              "4 3103.729 2862.102\n",
              "5 3241.159 2835.936\n",
              "6 2998.929 2738.329"
            ]
          },
          "metadata": {}
        }
      ]
    },
    {
      "cell_type": "markdown",
      "source": [
        "# Finding Correlation\n"
      ],
      "metadata": {
        "id": "xHeNyvmuqX4O"
      }
    },
    {
      "cell_type": "code",
      "source": [],
      "metadata": {
        "id": "y1feoUF6Gsj-"
      },
      "execution_count": null,
      "outputs": []
    },
    {
      "cell_type": "code",
      "source": [
        "# prompt: find correlation\n",
        "\n",
        "cor(df$yield, df[,c(2:10)])\n"
      ],
      "metadata": {
        "colab": {
          "base_uri": "https://localhost:8080/",
          "height": 98
        },
        "id": "ww6weBZrF4iU",
        "outputId": "b74a0410-b6df-49b4-e2a6-a510f279294b"
      },
      "execution_count": null,
      "outputs": [
        {
          "output_type": "display_data",
          "data": {
            "text/html": [
              "<table class=\"dataframe\">\n",
              "<caption>A matrix: 1 × 9 of type dbl</caption>\n",
              "<thead>\n",
              "\t<tr><th scope=col>NOVEMBERT</th><th scope=col>FEBRAUARYT</th><th scope=col>MARCHT</th><th scope=col>NOVEMBERH</th><th scope=col>DECEMBERH</th><th scope=col>MARCHH</th><th scope=col>NOVEMBERN</th><th scope=col>JANUARYN</th><th scope=col>MARCHN</th></tr>\n",
              "</thead>\n",
              "<tbody>\n",
              "\t<tr><td>-0.2571901</td><td>-0.1686435</td><td>-0.1295021</td><td>0.3302294</td><td>0.5329732</td><td>-0.09150205</td><td>0.2480722</td><td>0.0622377</td><td>0.3166649</td></tr>\n",
              "</tbody>\n",
              "</table>\n"
            ],
            "text/markdown": "\nA matrix: 1 × 9 of type dbl\n\n| NOVEMBERT | FEBRAUARYT | MARCHT | NOVEMBERH | DECEMBERH | MARCHH | NOVEMBERN | JANUARYN | MARCHN |\n|---|---|---|---|---|---|---|---|---|\n| -0.2571901 | -0.1686435 | -0.1295021 | 0.3302294 | 0.5329732 | -0.09150205 | 0.2480722 | 0.0622377 | 0.3166649 |\n\n",
            "text/latex": "A matrix: 1 × 9 of type dbl\n\\begin{tabular}{lllllllll}\n NOVEMBERT & FEBRAUARYT & MARCHT & NOVEMBERH & DECEMBERH & MARCHH & NOVEMBERN & JANUARYN & MARCHN\\\\\n\\hline\n\t -0.2571901 & -0.1686435 & -0.1295021 & 0.3302294 & 0.5329732 & -0.09150205 & 0.2480722 & 0.0622377 & 0.3166649\\\\\n\\end{tabular}\n",
            "text/plain": [
              "     NOVEMBERT  FEBRAUARYT MARCHT     NOVEMBERH DECEMBERH MARCHH      NOVEMBERN\n",
              "[1,] -0.2571901 -0.1686435 -0.1295021 0.3302294 0.5329732 -0.09150205 0.2480722\n",
              "     JANUARYN  MARCHN   \n",
              "[1,] 0.0622377 0.3166649"
            ]
          },
          "metadata": {}
        }
      ]
    },
    {
      "cell_type": "markdown",
      "source": [
        "#Linear Regression and its Summary"
      ],
      "metadata": {
        "id": "qKrXVey4qdse"
      }
    },
    {
      "cell_type": "code",
      "source": [
        "# prompt: write linear regression code\n",
        "\n",
        "model <- lm(yield ~ ., data = df)\n",
        "summary(model)\n"
      ],
      "metadata": {
        "colab": {
          "base_uri": "https://localhost:8080/",
          "height": 468
        },
        "id": "pPPhhwxvGJCE",
        "outputId": "19a89603-3b42-415e-dd32-55d71ed5c5ff"
      },
      "execution_count": null,
      "outputs": [
        {
          "output_type": "display_data",
          "data": {
            "text/plain": [
              "\n",
              "Call:\n",
              "lm(formula = yield ~ ., data = df)\n",
              "\n",
              "Residuals:\n",
              "     Min       1Q   Median       3Q      Max \n",
              "-0.36198 -0.09165 -0.02736  0.16219  0.34358 \n",
              "\n",
              "Coefficients:\n",
              "              Estimate Std. Error t value Pr(>|t|)  \n",
              "(Intercept)  3.183e+00  4.997e+00   0.637   0.5372  \n",
              "NOVEMBERT   -2.380e-01  1.165e-01  -2.043   0.0657 .\n",
              "FEBRAUARYT  -8.831e-02  1.163e-01  -0.760   0.4635  \n",
              "MARCHT       3.767e-02  1.217e-01   0.309   0.7627  \n",
              "NOVEMBERH    1.603e-02  2.042e-02   0.785   0.4492  \n",
              "DECEMBERH    5.209e-02  2.479e-02   2.101   0.0595 .\n",
              "MARCHH      -4.592e-03  2.001e-02  -0.230   0.8227  \n",
              "NOVEMBERN    9.728e-05  1.635e-04   0.595   0.5640  \n",
              "JANUARYN    -2.634e-04  2.803e-04  -0.939   0.3677  \n",
              "MARCHN       4.318e-04  1.990e-04   2.170   0.0528 .\n",
              "---\n",
              "Signif. codes:  0 ‘***’ 0.001 ‘**’ 0.01 ‘*’ 0.05 ‘.’ 0.1 ‘ ’ 1\n",
              "\n",
              "Residual standard error: 0.2542 on 11 degrees of freedom\n",
              "Multiple R-squared:  0.7093,\tAdjusted R-squared:  0.4714 \n",
              "F-statistic: 2.982 on 9 and 11 DF,  p-value: 0.0457\n"
            ]
          },
          "metadata": {}
        }
      ]
    },
    {
      "cell_type": "markdown",
      "source": [
        "#Machine Learning Linear Regression"
      ],
      "metadata": {
        "id": "ZE6pRxpfqwYI"
      }
    },
    {
      "cell_type": "code",
      "source": [],
      "metadata": {
        "id": "OxNfXlRbNuxQ"
      },
      "execution_count": null,
      "outputs": []
    },
    {
      "cell_type": "code",
      "source": [
        "# Install and load the necessary library\n",
        "install.packages(\"caTools\")\n",
        "library(caTools)\n",
        "\n",
        "# Set seed for reproducibility\n",
        "set.seed(350)\n",
        "\n",
        "# Read the dataset\n",
        "df <- read_excel(\"/content/rabi.xlsx\")\n",
        "\n",
        "# Split the dataset into Training and Test sets\n",
        "split <- sample.split(df$yield, SplitRatio = 0.8)\n",
        "training_set <- df[split, ]\n",
        "test_set <- df[!split, ]\n",
        "\n",
        "# Train a linear regression model\n",
        "regressor <- lm(yield ~ ., data = training_set)\n",
        "\n",
        "# Display the model summary\n",
        "summary(regressor)\n",
        "\n"
      ],
      "metadata": {
        "colab": {
          "base_uri": "https://localhost:8080/",
          "height": 573
        },
        "id": "VDXWk8BZGRWV",
        "outputId": "bea8c2c1-cf42-4834-b6e5-1b313d9ded04"
      },
      "execution_count": null,
      "outputs": [
        {
          "output_type": "stream",
          "name": "stderr",
          "text": [
            "Installing package into ‘/usr/local/lib/R/site-library’\n",
            "(as ‘lib’ is unspecified)\n",
            "\n"
          ]
        },
        {
          "output_type": "display_data",
          "data": {
            "text/plain": [
              "\n",
              "Call:\n",
              "lm(formula = yield ~ ., data = training_set)\n",
              "\n",
              "Residuals:\n",
              "       1        2        3        4        5        6        7        8 \n",
              "-0.05551 -0.05306  0.01693  0.12487  0.05873  0.12243  0.16703 -0.02365 \n",
              "       9       10       11       12       13       14       15       16 \n",
              "-0.27643 -0.08114 -0.09880 -0.07105  0.03470  0.02597 -0.08353  0.19251 \n",
              "\n",
              "Coefficients:\n",
              "              Estimate Std. Error t value Pr(>|t|)  \n",
              "(Intercept) -5.356e+01  6.190e+01  -0.865   0.4264  \n",
              "year         3.200e-02  3.354e-02   0.954   0.3838  \n",
              "NOVEMBERT   -2.807e-01  1.363e-01  -2.060   0.0944 .\n",
              "FEBRAUARYT   1.231e-01  1.397e-01   0.881   0.4186  \n",
              "MARCHT      -3.123e-01  1.946e-01  -1.605   0.1694  \n",
              "NOVEMBERH    3.114e-02  2.368e-02   1.315   0.2456  \n",
              "DECEMBERH    2.885e-02  2.848e-02   1.013   0.3576  \n",
              "MARCHH      -4.518e-03  2.920e-02  -0.155   0.8831  \n",
              "NOVEMBERN    1.003e-04  2.010e-04   0.499   0.6389  \n",
              "JANUARYN    -3.811e-05  3.437e-04  -0.111   0.9160  \n",
              "MARCHN      -3.565e-04  8.391e-04  -0.425   0.6886  \n",
              "---\n",
              "Signif. codes:  0 ‘***’ 0.001 ‘**’ 0.01 ‘*’ 0.05 ‘.’ 0.1 ‘ ’ 1\n",
              "\n",
              "Residual standard error: 0.2061 on 5 degrees of freedom\n",
              "Multiple R-squared:  0.8858,\tAdjusted R-squared:  0.6573 \n",
              "F-statistic: 3.877 on 10 and 5 DF,  p-value: 0.07394\n"
            ]
          },
          "metadata": {}
        }
      ]
    },
    {
      "cell_type": "markdown",
      "source": [
        "# Machine Learning Linear Regression with Multicollinarity"
      ],
      "metadata": {
        "id": "UfllFcQrq4vX"
      }
    },
    {
      "cell_type": "code",
      "source": [
        "# prompt: result not satisfied write the optimal code with high r square value and low p value\n",
        "\n",
        "# Install and load necessary libraries\n",
        "if(!require(readxl)){install.packages(\"readxl\")}\n",
        "library(readxl)\n",
        "if(!require(caTools)){install.packages(\"caTools\")}\n",
        "library(caTools)\n",
        "if(!require(car)){install.packages(\"car\")} # for vif\n",
        "library(car)\n",
        "\n",
        "\n",
        "# Load the dataset\n",
        "df <- read_excel(\"/content/rabi.xlsx\")\n",
        "\n",
        "# Data preprocessing (example - adapt based on your data exploration)\n",
        "df[, c(\"NOVEMBERT\", \"FEBRAUARYT\", \"MARCHT\", \"NOVEMBERH\", \"DECEMBERH\", \"MARCHH\", \"NOVEMBERN\", \"JANUARYN\", \"MARCHN\")] <-\n",
        "  sapply(df[, c(\"NOVEMBERT\", \"FEBRAUARYT\", \"MARCHT\", \"NOVEMBERH\", \"DECEMBERH\", \"MARCHH\", \"NOVEMBERN\", \"JANUARYN\", \"MARCHN\")], as.numeric)\n",
        "\n",
        "df <- na.omit(df) #remove rows with NA values\n",
        "\n",
        "# Feature Engineering (example - consider creating interaction terms or polynomial features)\n",
        "\n",
        "# Split the data\n",
        "set.seed(123) #for reproducibility\n",
        "split <- sample.split(df$yield, SplitRatio = 0.8)\n",
        "training_set <- subset(df, split == TRUE)\n",
        "test_set <- subset(df, split == FALSE)\n",
        "\n",
        "\n",
        "# Model building with stepwise regression (example)\n",
        "model_full <- lm(yield ~ ., data = training_set)\n",
        "\n",
        "model_step <- step(model_full, direction = \"both\", trace = 0) #trace = 0 suppresses output\n",
        "\n",
        "summary(model_step)\n",
        "\n",
        "# Check VIF for multicollinearity\n",
        "vif(model_step)\n",
        "\n",
        "\n",
        "# Make predictions\n",
        "y_pred <- predict(model_step, newdata = test_set)\n",
        "\n",
        "# Evaluate model performance\n",
        "rmse <- sqrt(mean((test_set$yield - y_pred)^2))\n",
        "cat(\"RMSE:\", rmse, \"\\n\")\n",
        "r_squared <- summary(model_step)$r.squared\n",
        "cat(\"R-squared:\", r_squared, \"\\n\")\n",
        "\n",
        "# Further improvements:\n",
        "# 1. Thoroughly explore data for outliers and transformations. Log transform skewed data.\n",
        "# 2. Consider non-linear relationships.\n",
        "# 3. Explore other regression techniques like Random Forest or Gradient Boosting if linear models are not suitable"
      ],
      "metadata": {
        "colab": {
          "base_uri": "https://localhost:8080/",
          "height": 503
        },
        "id": "OsAonqkeIibo",
        "outputId": "d44ab4cc-74d8-400d-8b0e-817cdd4590aa"
      },
      "execution_count": null,
      "outputs": [
        {
          "output_type": "display_data",
          "data": {
            "text/plain": [
              "\n",
              "Call:\n",
              "lm(formula = yield ~ year + NOVEMBERH + DECEMBERH + NOVEMBERN + \n",
              "    JANUARYN + MARCHN, data = training_set)\n",
              "\n",
              "Residuals:\n",
              "      Min        1Q    Median        3Q       Max \n",
              "-0.260536 -0.089655  0.009488  0.108396  0.271236 \n",
              "\n",
              "Coefficients:\n",
              "              Estimate Std. Error t value Pr(>|t|)   \n",
              "(Intercept) 50.5959054 27.9522278   1.810  0.10372   \n",
              "year        -0.0277809  0.0143653  -1.934  0.08514 . \n",
              "NOVEMBERH    0.0235520  0.0190751   1.235  0.24821   \n",
              "DECEMBERH    0.0614501  0.0240530   2.555  0.03095 * \n",
              "NOVEMBERN    0.0004158  0.0001438   2.891  0.01785 * \n",
              "JANUARYN    -0.0007889  0.0002056  -3.838  0.00398 **\n",
              "MARCHN       0.0006094  0.0001657   3.679  0.00508 **\n",
              "---\n",
              "Signif. codes:  0 ‘***’ 0.001 ‘**’ 0.01 ‘*’ 0.05 ‘.’ 0.1 ‘ ’ 1\n",
              "\n",
              "Residual standard error: 0.2005 on 9 degrees of freedom\n",
              "Multiple R-squared:  0.8182,\tAdjusted R-squared:  0.6971 \n",
              "F-statistic: 6.753 on 6 and 9 DF,  p-value: 0.006033\n"
            ]
          },
          "metadata": {}
        },
        {
          "output_type": "display_data",
          "data": {
            "text/html": [
              "<style>\n",
              ".dl-inline {width: auto; margin:0; padding: 0}\n",
              ".dl-inline>dt, .dl-inline>dd {float: none; width: auto; display: inline-block}\n",
              ".dl-inline>dt::after {content: \":\\0020\"; padding-right: .5ex}\n",
              ".dl-inline>dt:not(:first-of-type) {padding-left: .5ex}\n",
              "</style><dl class=dl-inline><dt>year</dt><dd>3.17063482299515</dd><dt>NOVEMBERH</dt><dd>4.2352445732282</dd><dt>DECEMBERH</dt><dd>4.34675089795554</dd><dt>NOVEMBERN</dt><dd>2.5367305398454</dd><dt>JANUARYN</dt><dd>2.12785029337623</dd><dt>MARCHN</dt><dd>2.2496561893869</dd></dl>\n"
            ],
            "text/markdown": "year\n:   3.17063482299515NOVEMBERH\n:   4.2352445732282DECEMBERH\n:   4.34675089795554NOVEMBERN\n:   2.5367305398454JANUARYN\n:   2.12785029337623MARCHN\n:   2.2496561893869\n\n",
            "text/latex": "\\begin{description*}\n\\item[year] 3.17063482299515\n\\item[NOVEMBERH] 4.2352445732282\n\\item[DECEMBERH] 4.34675089795554\n\\item[NOVEMBERN] 2.5367305398454\n\\item[JANUARYN] 2.12785029337623\n\\item[MARCHN] 2.2496561893869\n\\end{description*}\n",
            "text/plain": [
              "     year NOVEMBERH DECEMBERH NOVEMBERN  JANUARYN    MARCHN \n",
              " 3.170635  4.235245  4.346751  2.536731  2.127850  2.249656 "
            ]
          },
          "metadata": {}
        },
        {
          "output_type": "stream",
          "name": "stdout",
          "text": [
            "RMSE: 0.4206261 \n",
            "R-squared: 0.8182449 \n"
          ]
        }
      ]
    },
    {
      "cell_type": "markdown",
      "source": [
        "# Removing One parameter did not improve Model"
      ],
      "metadata": {
        "id": "tuzz-CtKrJT-"
      }
    },
    {
      "cell_type": "code",
      "source": [
        "# prompt: For the above remove NOVEMBERH    and year column and redo as per above\n",
        "\n",
        "# Assuming df is already loaded and preprocessed as in the original code\n",
        "\n",
        "# Remove \"NOVEMBERH\" and \"year\" columns if they exist\n",
        "if (\"NOVEMBERH\" %in% names(df)) {\n",
        "  df <- df[, !(names(df) %in% c(\"NOVEMBERH\"))]\n",
        "}\n",
        "\n",
        "if (\"year\" %in% names(df)) {\n",
        "  df <- df[, !(names(df) %in% c(\"year\"))]\n",
        "}\n",
        "\n",
        "# Recalculate correlations after removing columns (if needed)\n",
        "cor(df$yield, df[,c(2:9)]) # Adjust the column indices if necessary\n",
        "\n",
        "# Rebuild the model without \"NOVEMBERH\" and \"year\"\n",
        "model <- lm(yield ~ ., data = df)\n",
        "summary(model)\n",
        "\n",
        "\n",
        "# Splitting the data (adjust SplitRatio if needed)\n",
        "set.seed(350)\n",
        "split <- sample.split(df$yield, SplitRatio = 0.8)\n",
        "training_set <- subset(df, split == TRUE)\n",
        "test_set <- subset(df, split == FALSE)\n",
        "\n",
        "\n",
        "# Stepwise regression (adjust direction if necessary)\n",
        "model_full <- lm(yield ~ ., data = training_set)\n",
        "model_step <- step(model_full, direction = \"both\", trace = 0)\n",
        "summary(model_step)\n",
        "\n",
        "vif(model_step) # Check VIF\n",
        "\n",
        "# Predictions and evaluation\n",
        "y_pred <- predict(model_step, newdata = test_set)\n",
        "rmse <- sqrt(mean((test_set$yield - y_pred)^2))\n",
        "cat(\"RMSE:\", rmse, \"\\n\")\n",
        "r_squared <- summary(model_step)$r.squared\n",
        "cat(\"R-squared:\", r_squared, \"\\n\")"
      ],
      "metadata": {
        "colab": {
          "base_uri": "https://localhost:8080/",
          "height": 1000
        },
        "id": "KJuY2BoQNwcd",
        "outputId": "fc9966cc-0098-4735-f725-72af87aae459"
      },
      "execution_count": null,
      "outputs": [
        {
          "output_type": "display_data",
          "data": {
            "text/html": [
              "<table class=\"dataframe\">\n",
              "<caption>A matrix: 1 × 8 of type dbl</caption>\n",
              "<thead>\n",
              "\t<tr><th scope=col>NOVEMBERT</th><th scope=col>FEBRAUARYT</th><th scope=col>MARCHT</th><th scope=col>DECEMBERH</th><th scope=col>MARCHH</th><th scope=col>NOVEMBERN</th><th scope=col>JANUARYN</th><th scope=col>MARCHN</th></tr>\n",
              "</thead>\n",
              "<tbody>\n",
              "\t<tr><td>-0.2571901</td><td>-0.1686435</td><td>-0.1295021</td><td>0.5329732</td><td>-0.09150205</td><td>0.2480722</td><td>0.0622377</td><td>0.3166649</td></tr>\n",
              "</tbody>\n",
              "</table>\n"
            ],
            "text/markdown": "\nA matrix: 1 × 8 of type dbl\n\n| NOVEMBERT | FEBRAUARYT | MARCHT | DECEMBERH | MARCHH | NOVEMBERN | JANUARYN | MARCHN |\n|---|---|---|---|---|---|---|---|\n| -0.2571901 | -0.1686435 | -0.1295021 | 0.5329732 | -0.09150205 | 0.2480722 | 0.0622377 | 0.3166649 |\n\n",
            "text/latex": "A matrix: 1 × 8 of type dbl\n\\begin{tabular}{llllllll}\n NOVEMBERT & FEBRAUARYT & MARCHT & DECEMBERH & MARCHH & NOVEMBERN & JANUARYN & MARCHN\\\\\n\\hline\n\t -0.2571901 & -0.1686435 & -0.1295021 & 0.5329732 & -0.09150205 & 0.2480722 & 0.0622377 & 0.3166649\\\\\n\\end{tabular}\n",
            "text/plain": [
              "     NOVEMBERT  FEBRAUARYT MARCHT     DECEMBERH MARCHH      NOVEMBERN JANUARYN \n",
              "[1,] -0.2571901 -0.1686435 -0.1295021 0.5329732 -0.09150205 0.2480722 0.0622377\n",
              "     MARCHN   \n",
              "[1,] 0.3166649"
            ]
          },
          "metadata": {}
        },
        {
          "output_type": "display_data",
          "data": {
            "text/plain": [
              "\n",
              "Call:\n",
              "lm(formula = yield ~ ., data = df)\n",
              "\n",
              "Residuals:\n",
              "     Min       1Q   Median       3Q      Max \n",
              "-0.33994 -0.12292 -0.01996  0.13661  0.32847 \n",
              "\n",
              "Coefficients:\n",
              "              Estimate Std. Error t value Pr(>|t|)   \n",
              "(Intercept)  2.514e+00  4.845e+00   0.519  0.61328   \n",
              "NOVEMBERT   -2.250e-01  1.134e-01  -1.983  0.07070 . \n",
              "FEBRAUARYT  -9.676e-02  1.139e-01  -0.850  0.41223   \n",
              "MARCHT       5.700e-02  1.173e-01   0.486  0.63569   \n",
              "DECEMBERH    6.693e-02  1.577e-02   4.244  0.00114 **\n",
              "MARCHH       9.947e-05  1.879e-02   0.005  0.99586   \n",
              "NOVEMBERN    7.132e-05  1.576e-04   0.453  0.65893   \n",
              "JANUARYN    -2.471e-04  2.751e-04  -0.898  0.38667   \n",
              "MARCHN       4.205e-04  1.953e-04   2.153  0.05232 . \n",
              "---\n",
              "Signif. codes:  0 ‘***’ 0.001 ‘**’ 0.01 ‘*’ 0.05 ‘.’ 0.1 ‘ ’ 1\n",
              "\n",
              "Residual standard error: 0.2501 on 12 degrees of freedom\n",
              "Multiple R-squared:  0.693,\tAdjusted R-squared:  0.4883 \n",
              "F-statistic: 3.386 on 8 and 12 DF,  p-value: 0.02837\n"
            ]
          },
          "metadata": {}
        },
        {
          "output_type": "display_data",
          "data": {
            "text/plain": [
              "\n",
              "Call:\n",
              "lm(formula = yield ~ NOVEMBERT + FEBRAUARYT + MARCHT + DECEMBERH + \n",
              "    MARCHH + NOVEMBERN, data = training_set)\n",
              "\n",
              "Residuals:\n",
              "     Min       1Q   Median       3Q      Max \n",
              "-0.23914 -0.09393 -0.02115  0.11122  0.33806 \n",
              "\n",
              "Coefficients:\n",
              "              Estimate Std. Error t value Pr(>|t|)   \n",
              "(Intercept)  6.9082760  3.7678983   1.833  0.09995 . \n",
              "NOVEMBERT   -0.2162459  0.0878930  -2.460  0.03614 * \n",
              "FEBRAUARYT   0.1404399  0.1240326   1.132  0.28678   \n",
              "MARCHT      -0.2930592  0.1363384  -2.149  0.06009 . \n",
              "DECEMBERH    0.0723555  0.0152618   4.741  0.00106 **\n",
              "MARCHH      -0.0246779  0.0160873  -1.534  0.15940   \n",
              "NOVEMBERN    0.0002072  0.0001146   1.808  0.10410   \n",
              "---\n",
              "Signif. codes:  0 ‘***’ 0.001 ‘**’ 0.01 ‘*’ 0.05 ‘.’ 0.1 ‘ ’ 1\n",
              "\n",
              "Residual standard error: 0.2096 on 9 degrees of freedom\n",
              "Multiple R-squared:  0.7873,\tAdjusted R-squared:  0.6455 \n",
              "F-statistic: 5.553 on 6 and 9 DF,  p-value: 0.01152\n"
            ]
          },
          "metadata": {}
        },
        {
          "output_type": "display_data",
          "data": {
            "text/html": [
              "<style>\n",
              ".dl-inline {width: auto; margin:0; padding: 0}\n",
              ".dl-inline>dt, .dl-inline>dd {float: none; width: auto; display: inline-block}\n",
              ".dl-inline>dt::after {content: \":\\0020\"; padding-right: .5ex}\n",
              ".dl-inline>dt:not(:first-of-type) {padding-left: .5ex}\n",
              "</style><dl class=dl-inline><dt>NOVEMBERT</dt><dd>1.13403610015917</dd><dt>FEBRAUARYT</dt><dd>3.91352338642112</dd><dt>MARCHT</dt><dd>4.32502979156789</dd><dt>DECEMBERH</dt><dd>1.10837661973165</dd><dt>MARCHH</dt><dd>1.68867840708514</dd><dt>NOVEMBERN</dt><dd>1.37264371332967</dd></dl>\n"
            ],
            "text/markdown": "NOVEMBERT\n:   1.13403610015917FEBRAUARYT\n:   3.91352338642112MARCHT\n:   4.32502979156789DECEMBERH\n:   1.10837661973165MARCHH\n:   1.68867840708514NOVEMBERN\n:   1.37264371332967\n\n",
            "text/latex": "\\begin{description*}\n\\item[NOVEMBERT] 1.13403610015917\n\\item[FEBRAUARYT] 3.91352338642112\n\\item[MARCHT] 4.32502979156789\n\\item[DECEMBERH] 1.10837661973165\n\\item[MARCHH] 1.68867840708514\n\\item[NOVEMBERN] 1.37264371332967\n\\end{description*}\n",
            "text/plain": [
              " NOVEMBERT FEBRAUARYT     MARCHT  DECEMBERH     MARCHH  NOVEMBERN \n",
              "  1.134036   3.913523   4.325030   1.108377   1.688678   1.372644 "
            ]
          },
          "metadata": {}
        },
        {
          "output_type": "stream",
          "name": "stdout",
          "text": [
            "RMSE: 0.49348 \n",
            "R-squared: 0.7873264 \n"
          ]
        }
      ]
    },
    {
      "cell_type": "markdown",
      "source": [
        "# Final view of Exel Data"
      ],
      "metadata": {
        "id": "Vt70YpSNrSJG"
      }
    },
    {
      "cell_type": "code",
      "source": [
        "# prompt: View df\n",
        "\n",
        "View(df)\n"
      ],
      "metadata": {
        "colab": {
          "base_uri": "https://localhost:8080/",
          "height": 757
        },
        "id": "76TE2tP5jWzd",
        "outputId": "c5a04e71-8dae-49bc-c24f-8223463981ce"
      },
      "execution_count": null,
      "outputs": [
        {
          "output_type": "display_data",
          "data": {
            "text/plain": [
              "   year yield NOVEMBERT FEBRAUARYT MARCHT NOVEMBERH DECEMBERH MARCHH NOVEMBERN\n",
              "1  2002 0.63  24.41     25.48      28.60  64.81     60.54     50.40  4178.541 \n",
              "2  2003 0.08  25.34     26.78      29.23  60.85     57.01     54.80  3566.976 \n",
              "3  2004 0.69  24.45     25.83      29.97  61.93     55.00     46.70  3445.540 \n",
              "4  2005 1.09  22.99     25.92      28.65  61.77     59.69     47.21  3894.718 \n",
              "5  2006 0.51  24.96     25.08      27.62  69.83     60.43     54.05  4254.572 \n",
              "6  2007 1.44  23.98     25.20      29.03  62.40     60.82     50.99  4375.213 \n",
              "7  2008 1.21  24.30     25.56      27.08  60.19     61.60     57.48  4362.738 \n",
              "8  2009 1.06  24.89     26.40      28.51  67.87     61.00     51.26  4314.078 \n",
              "9  2010 1.14  25.21     26.30      29.73  75.87     66.02     52.47  4427.884 \n",
              "10 2011 0.92  24.37     24.61      28.47  61.69     59.86     52.53  4980.852 \n",
              "11 2012 1.28  24.31     25.52      28.57  66.20     60.57     48.02  4255.787 \n",
              "12 2013 0.97  24.19     26.20      29.19  66.09     59.45     51.41  4806.148 \n",
              "13 2014 0.98  24.15     24.90      27.79  65.32     62.98     54.47  4670.302 \n",
              "14 2015 0.85  25.62     23.75      26.83  62.94     58.84     48.29  4567.238 \n",
              "15 2016 0.48  24.08     27.39      30.19  55.31     55.25     43.40  4927.936 \n",
              "16 2017 1.16  24.58     25.87      28.45  66.47     63.23     43.90  3678.539 \n",
              "17 2018 0.69  25.47     25.08      28.74  59.53     61.91     44.88  4789.260 \n",
              "18 2019 1.33  25.33     26.16      29.49  72.59     71.35     42.89  3637.326 \n",
              "19 2020 1.40  24.58     25.58      28.60  70.00     66.84     52.81  5465.473 \n",
              "20 2021 1.27  24.59     25.66      28.67  64.82     61.18     49.89  4965.259 \n",
              "21 2022 1.18  24.60     26.10      28.60  55.31     55.00     42.89  4940.555 \n",
              "   JANUARYN MARCHN  \n",
              "1  3509.471 2784.059\n",
              "2  3651.380 2713.348\n",
              "3  2779.729 2765.790\n",
              "4  3103.729 2862.102\n",
              "5  3241.159 2835.936\n",
              "6  2998.929 2738.329\n",
              "7  3424.573 3300.968\n",
              "8  3299.861 2899.253\n",
              "9  4224.360 3126.209\n",
              "10 3569.458 2987.404\n",
              "11 3222.029 2807.941\n",
              "12 3224.386 3029.785\n",
              "13 3549.348 3298.441\n",
              "14 3576.781 3090.603\n",
              "15 3412.671 2918.173\n",
              "16 3067.453 3084.070\n",
              "17 3502.507 3101.730\n",
              "18 3147.953 2841.601\n",
              "19 4078.905 3295.799\n",
              "20 4049.396 3471.809\n",
              "21 3612.289 4684.246"
            ],
            "text/html": [
              "<table class=\"dataframe\">\n",
              "<caption>A tibble: 21 × 11</caption>\n",
              "<thead>\n",
              "\t<tr><th scope=col>year</th><th scope=col>yield</th><th scope=col>NOVEMBERT</th><th scope=col>FEBRAUARYT</th><th scope=col>MARCHT</th><th scope=col>NOVEMBERH</th><th scope=col>DECEMBERH</th><th scope=col>MARCHH</th><th scope=col>NOVEMBERN</th><th scope=col>JANUARYN</th><th scope=col>MARCHN</th></tr>\n",
              "\t<tr><th scope=col>&lt;dbl&gt;</th><th scope=col>&lt;dbl&gt;</th><th scope=col>&lt;dbl&gt;</th><th scope=col>&lt;dbl&gt;</th><th scope=col>&lt;dbl&gt;</th><th scope=col>&lt;dbl&gt;</th><th scope=col>&lt;dbl&gt;</th><th scope=col>&lt;dbl&gt;</th><th scope=col>&lt;dbl&gt;</th><th scope=col>&lt;dbl&gt;</th><th scope=col>&lt;dbl&gt;</th></tr>\n",
              "</thead>\n",
              "<tbody>\n",
              "\t<tr><td>2002</td><td>0.63</td><td>24.41</td><td>25.48</td><td>28.60</td><td>64.81</td><td>60.54</td><td>50.40</td><td>4178.541</td><td>3509.471</td><td>2784.059</td></tr>\n",
              "\t<tr><td>2003</td><td>0.08</td><td>25.34</td><td>26.78</td><td>29.23</td><td>60.85</td><td>57.01</td><td>54.80</td><td>3566.976</td><td>3651.380</td><td>2713.348</td></tr>\n",
              "\t<tr><td>2004</td><td>0.69</td><td>24.45</td><td>25.83</td><td>29.97</td><td>61.93</td><td>55.00</td><td>46.70</td><td>3445.540</td><td>2779.729</td><td>2765.790</td></tr>\n",
              "\t<tr><td>2005</td><td>1.09</td><td>22.99</td><td>25.92</td><td>28.65</td><td>61.77</td><td>59.69</td><td>47.21</td><td>3894.718</td><td>3103.729</td><td>2862.102</td></tr>\n",
              "\t<tr><td>2006</td><td>0.51</td><td>24.96</td><td>25.08</td><td>27.62</td><td>69.83</td><td>60.43</td><td>54.05</td><td>4254.572</td><td>3241.159</td><td>2835.936</td></tr>\n",
              "\t<tr><td>2007</td><td>1.44</td><td>23.98</td><td>25.20</td><td>29.03</td><td>62.40</td><td>60.82</td><td>50.99</td><td>4375.213</td><td>2998.929</td><td>2738.329</td></tr>\n",
              "\t<tr><td>2008</td><td>1.21</td><td>24.30</td><td>25.56</td><td>27.08</td><td>60.19</td><td>61.60</td><td>57.48</td><td>4362.738</td><td>3424.573</td><td>3300.968</td></tr>\n",
              "\t<tr><td>2009</td><td>1.06</td><td>24.89</td><td>26.40</td><td>28.51</td><td>67.87</td><td>61.00</td><td>51.26</td><td>4314.078</td><td>3299.861</td><td>2899.253</td></tr>\n",
              "\t<tr><td>2010</td><td>1.14</td><td>25.21</td><td>26.30</td><td>29.73</td><td>75.87</td><td>66.02</td><td>52.47</td><td>4427.884</td><td>4224.360</td><td>3126.209</td></tr>\n",
              "\t<tr><td>2011</td><td>0.92</td><td>24.37</td><td>24.61</td><td>28.47</td><td>61.69</td><td>59.86</td><td>52.53</td><td>4980.852</td><td>3569.458</td><td>2987.404</td></tr>\n",
              "\t<tr><td>2012</td><td>1.28</td><td>24.31</td><td>25.52</td><td>28.57</td><td>66.20</td><td>60.57</td><td>48.02</td><td>4255.787</td><td>3222.029</td><td>2807.941</td></tr>\n",
              "\t<tr><td>2013</td><td>0.97</td><td>24.19</td><td>26.20</td><td>29.19</td><td>66.09</td><td>59.45</td><td>51.41</td><td>4806.148</td><td>3224.386</td><td>3029.785</td></tr>\n",
              "\t<tr><td>2014</td><td>0.98</td><td>24.15</td><td>24.90</td><td>27.79</td><td>65.32</td><td>62.98</td><td>54.47</td><td>4670.302</td><td>3549.348</td><td>3298.441</td></tr>\n",
              "\t<tr><td>2015</td><td>0.85</td><td>25.62</td><td>23.75</td><td>26.83</td><td>62.94</td><td>58.84</td><td>48.29</td><td>4567.238</td><td>3576.781</td><td>3090.603</td></tr>\n",
              "\t<tr><td>2016</td><td>0.48</td><td>24.08</td><td>27.39</td><td>30.19</td><td>55.31</td><td>55.25</td><td>43.40</td><td>4927.936</td><td>3412.671</td><td>2918.173</td></tr>\n",
              "\t<tr><td>2017</td><td>1.16</td><td>24.58</td><td>25.87</td><td>28.45</td><td>66.47</td><td>63.23</td><td>43.90</td><td>3678.539</td><td>3067.453</td><td>3084.070</td></tr>\n",
              "\t<tr><td>2018</td><td>0.69</td><td>25.47</td><td>25.08</td><td>28.74</td><td>59.53</td><td>61.91</td><td>44.88</td><td>4789.260</td><td>3502.507</td><td>3101.730</td></tr>\n",
              "\t<tr><td>2019</td><td>1.33</td><td>25.33</td><td>26.16</td><td>29.49</td><td>72.59</td><td>71.35</td><td>42.89</td><td>3637.326</td><td>3147.953</td><td>2841.601</td></tr>\n",
              "\t<tr><td>2020</td><td>1.40</td><td>24.58</td><td>25.58</td><td>28.60</td><td>70.00</td><td>66.84</td><td>52.81</td><td>5465.473</td><td>4078.905</td><td>3295.799</td></tr>\n",
              "\t<tr><td>2021</td><td>1.27</td><td>24.59</td><td>25.66</td><td>28.67</td><td>64.82</td><td>61.18</td><td>49.89</td><td>4965.259</td><td>4049.396</td><td>3471.809</td></tr>\n",
              "\t<tr><td>2022</td><td>1.18</td><td>24.60</td><td>26.10</td><td>28.60</td><td>55.31</td><td>55.00</td><td>42.89</td><td>4940.555</td><td>3612.289</td><td>4684.246</td></tr>\n",
              "</tbody>\n",
              "</table>\n"
            ],
            "text/markdown": "\nA tibble: 21 × 11\n\n| year &lt;dbl&gt; | yield &lt;dbl&gt; | NOVEMBERT &lt;dbl&gt; | FEBRAUARYT &lt;dbl&gt; | MARCHT &lt;dbl&gt; | NOVEMBERH &lt;dbl&gt; | DECEMBERH &lt;dbl&gt; | MARCHH &lt;dbl&gt; | NOVEMBERN &lt;dbl&gt; | JANUARYN &lt;dbl&gt; | MARCHN &lt;dbl&gt; |\n|---|---|---|---|---|---|---|---|---|---|---|\n| 2002 | 0.63 | 24.41 | 25.48 | 28.60 | 64.81 | 60.54 | 50.40 | 4178.541 | 3509.471 | 2784.059 |\n| 2003 | 0.08 | 25.34 | 26.78 | 29.23 | 60.85 | 57.01 | 54.80 | 3566.976 | 3651.380 | 2713.348 |\n| 2004 | 0.69 | 24.45 | 25.83 | 29.97 | 61.93 | 55.00 | 46.70 | 3445.540 | 2779.729 | 2765.790 |\n| 2005 | 1.09 | 22.99 | 25.92 | 28.65 | 61.77 | 59.69 | 47.21 | 3894.718 | 3103.729 | 2862.102 |\n| 2006 | 0.51 | 24.96 | 25.08 | 27.62 | 69.83 | 60.43 | 54.05 | 4254.572 | 3241.159 | 2835.936 |\n| 2007 | 1.44 | 23.98 | 25.20 | 29.03 | 62.40 | 60.82 | 50.99 | 4375.213 | 2998.929 | 2738.329 |\n| 2008 | 1.21 | 24.30 | 25.56 | 27.08 | 60.19 | 61.60 | 57.48 | 4362.738 | 3424.573 | 3300.968 |\n| 2009 | 1.06 | 24.89 | 26.40 | 28.51 | 67.87 | 61.00 | 51.26 | 4314.078 | 3299.861 | 2899.253 |\n| 2010 | 1.14 | 25.21 | 26.30 | 29.73 | 75.87 | 66.02 | 52.47 | 4427.884 | 4224.360 | 3126.209 |\n| 2011 | 0.92 | 24.37 | 24.61 | 28.47 | 61.69 | 59.86 | 52.53 | 4980.852 | 3569.458 | 2987.404 |\n| 2012 | 1.28 | 24.31 | 25.52 | 28.57 | 66.20 | 60.57 | 48.02 | 4255.787 | 3222.029 | 2807.941 |\n| 2013 | 0.97 | 24.19 | 26.20 | 29.19 | 66.09 | 59.45 | 51.41 | 4806.148 | 3224.386 | 3029.785 |\n| 2014 | 0.98 | 24.15 | 24.90 | 27.79 | 65.32 | 62.98 | 54.47 | 4670.302 | 3549.348 | 3298.441 |\n| 2015 | 0.85 | 25.62 | 23.75 | 26.83 | 62.94 | 58.84 | 48.29 | 4567.238 | 3576.781 | 3090.603 |\n| 2016 | 0.48 | 24.08 | 27.39 | 30.19 | 55.31 | 55.25 | 43.40 | 4927.936 | 3412.671 | 2918.173 |\n| 2017 | 1.16 | 24.58 | 25.87 | 28.45 | 66.47 | 63.23 | 43.90 | 3678.539 | 3067.453 | 3084.070 |\n| 2018 | 0.69 | 25.47 | 25.08 | 28.74 | 59.53 | 61.91 | 44.88 | 4789.260 | 3502.507 | 3101.730 |\n| 2019 | 1.33 | 25.33 | 26.16 | 29.49 | 72.59 | 71.35 | 42.89 | 3637.326 | 3147.953 | 2841.601 |\n| 2020 | 1.40 | 24.58 | 25.58 | 28.60 | 70.00 | 66.84 | 52.81 | 5465.473 | 4078.905 | 3295.799 |\n| 2021 | 1.27 | 24.59 | 25.66 | 28.67 | 64.82 | 61.18 | 49.89 | 4965.259 | 4049.396 | 3471.809 |\n| 2022 | 1.18 | 24.60 | 26.10 | 28.60 | 55.31 | 55.00 | 42.89 | 4940.555 | 3612.289 | 4684.246 |\n\n",
            "text/latex": "A tibble: 21 × 11\n\\begin{tabular}{lllllllllll}\n year & yield & NOVEMBERT & FEBRAUARYT & MARCHT & NOVEMBERH & DECEMBERH & MARCHH & NOVEMBERN & JANUARYN & MARCHN\\\\\n <dbl> & <dbl> & <dbl> & <dbl> & <dbl> & <dbl> & <dbl> & <dbl> & <dbl> & <dbl> & <dbl>\\\\\n\\hline\n\t 2002 & 0.63 & 24.41 & 25.48 & 28.60 & 64.81 & 60.54 & 50.40 & 4178.541 & 3509.471 & 2784.059\\\\\n\t 2003 & 0.08 & 25.34 & 26.78 & 29.23 & 60.85 & 57.01 & 54.80 & 3566.976 & 3651.380 & 2713.348\\\\\n\t 2004 & 0.69 & 24.45 & 25.83 & 29.97 & 61.93 & 55.00 & 46.70 & 3445.540 & 2779.729 & 2765.790\\\\\n\t 2005 & 1.09 & 22.99 & 25.92 & 28.65 & 61.77 & 59.69 & 47.21 & 3894.718 & 3103.729 & 2862.102\\\\\n\t 2006 & 0.51 & 24.96 & 25.08 & 27.62 & 69.83 & 60.43 & 54.05 & 4254.572 & 3241.159 & 2835.936\\\\\n\t 2007 & 1.44 & 23.98 & 25.20 & 29.03 & 62.40 & 60.82 & 50.99 & 4375.213 & 2998.929 & 2738.329\\\\\n\t 2008 & 1.21 & 24.30 & 25.56 & 27.08 & 60.19 & 61.60 & 57.48 & 4362.738 & 3424.573 & 3300.968\\\\\n\t 2009 & 1.06 & 24.89 & 26.40 & 28.51 & 67.87 & 61.00 & 51.26 & 4314.078 & 3299.861 & 2899.253\\\\\n\t 2010 & 1.14 & 25.21 & 26.30 & 29.73 & 75.87 & 66.02 & 52.47 & 4427.884 & 4224.360 & 3126.209\\\\\n\t 2011 & 0.92 & 24.37 & 24.61 & 28.47 & 61.69 & 59.86 & 52.53 & 4980.852 & 3569.458 & 2987.404\\\\\n\t 2012 & 1.28 & 24.31 & 25.52 & 28.57 & 66.20 & 60.57 & 48.02 & 4255.787 & 3222.029 & 2807.941\\\\\n\t 2013 & 0.97 & 24.19 & 26.20 & 29.19 & 66.09 & 59.45 & 51.41 & 4806.148 & 3224.386 & 3029.785\\\\\n\t 2014 & 0.98 & 24.15 & 24.90 & 27.79 & 65.32 & 62.98 & 54.47 & 4670.302 & 3549.348 & 3298.441\\\\\n\t 2015 & 0.85 & 25.62 & 23.75 & 26.83 & 62.94 & 58.84 & 48.29 & 4567.238 & 3576.781 & 3090.603\\\\\n\t 2016 & 0.48 & 24.08 & 27.39 & 30.19 & 55.31 & 55.25 & 43.40 & 4927.936 & 3412.671 & 2918.173\\\\\n\t 2017 & 1.16 & 24.58 & 25.87 & 28.45 & 66.47 & 63.23 & 43.90 & 3678.539 & 3067.453 & 3084.070\\\\\n\t 2018 & 0.69 & 25.47 & 25.08 & 28.74 & 59.53 & 61.91 & 44.88 & 4789.260 & 3502.507 & 3101.730\\\\\n\t 2019 & 1.33 & 25.33 & 26.16 & 29.49 & 72.59 & 71.35 & 42.89 & 3637.326 & 3147.953 & 2841.601\\\\\n\t 2020 & 1.40 & 24.58 & 25.58 & 28.60 & 70.00 & 66.84 & 52.81 & 5465.473 & 4078.905 & 3295.799\\\\\n\t 2021 & 1.27 & 24.59 & 25.66 & 28.67 & 64.82 & 61.18 & 49.89 & 4965.259 & 4049.396 & 3471.809\\\\\n\t 2022 & 1.18 & 24.60 & 26.10 & 28.60 & 55.31 & 55.00 & 42.89 & 4940.555 & 3612.289 & 4684.246\\\\\n\\end{tabular}\n"
          },
          "metadata": {}
        }
      ]
    },
    {
      "cell_type": "markdown",
      "source": [
        "# Xgboost Analysis"
      ],
      "metadata": {
        "id": "TZWGdrDXrWpm"
      }
    },
    {
      "cell_type": "code",
      "source": [
        "# Install and load necessary packages\n",
        "install.packages(\"xgboost\")\n",
        "install.packages(\"caTools\")  # Required for sample.split\n",
        "library(xgboost)\n",
        "library(caTools)\n",
        "\n",
        "# Assuming df is your prepared dataset (Ensure it contains 'yield' as the target column)\n",
        "\n",
        "# Define features (X) and target (y)\n",
        "X <- model.matrix(yield ~ ., data = df)[, -1]  # Exclude intercept column\n",
        "y <- df$yield\n",
        "\n",
        "# Split data into training and testing sets\n",
        "set.seed(123)\n",
        "split <- sample.split(y, SplitRatio = 0.8)  # Returns a logical vector\n",
        "train_data <- X[split, , drop = FALSE]  # Use logical indexing\n",
        "train_label <- y[split]\n",
        "test_data <- X[!split, , drop = FALSE]\n",
        "test_label <- y[!split]\n",
        "\n",
        "# Convert data into xgboost format\n",
        "dtrain <- xgb.DMatrix(data = as.matrix(train_data), label = train_label)\n",
        "dtest <- xgb.DMatrix(data = as.matrix(test_data), label = test_label)\n",
        "\n",
        "# Define xgboost parameters\n",
        "params <- list(\n",
        "  booster = \"gbtree\",\n",
        "  objective = \"reg:squarederror\",  # Corrected objective function for regression\n",
        "  eta = 0.1,\n",
        "  gamma = 0,\n",
        "  max_depth = 6,\n",
        "  min_child_weight = 1,\n",
        "  subsample = 0.8,\n",
        "  colsample_bytree = 0.8,\n",
        "  eval_metric = \"rmse\"\n",
        ")\n",
        "\n",
        "# Train the xgboost model\n",
        "xgb_model <- xgb.train(\n",
        "  params = params,\n",
        "  data = dtrain,\n",
        "  nrounds = 100,  # Adjust as needed\n",
        "  watchlist = list(train = dtrain, test = dtest),\n",
        "  print_every_n = 10\n",
        ")\n",
        "\n",
        "# Make predictions\n",
        "predictions <- predict(xgb_model, dtest)\n",
        "\n",
        "# Evaluate the model\n",
        "rmse <- sqrt(mean((test_label - predictions)^2))\n",
        "cat(\"RMSE:\", rmse, \"\\n\")\n"
      ],
      "metadata": {
        "colab": {
          "base_uri": "https://localhost:8080/"
        },
        "id": "nPQa9M-WjZ_N",
        "outputId": "b4d87fe8-b7dd-41d6-cc9b-6329485c1fc2"
      },
      "execution_count": null,
      "outputs": [
        {
          "output_type": "stream",
          "name": "stderr",
          "text": [
            "Installing package into ‘/usr/local/lib/R/site-library’\n",
            "(as ‘lib’ is unspecified)\n",
            "\n",
            "Installing package into ‘/usr/local/lib/R/site-library’\n",
            "(as ‘lib’ is unspecified)\n",
            "\n",
            "also installing the dependency ‘bitops’\n",
            "\n",
            "\n"
          ]
        },
        {
          "output_type": "stream",
          "name": "stdout",
          "text": [
            "[1]\ttrain-rmse:0.523084\ttest-rmse:0.576761 \n",
            "[11]\ttrain-rmse:0.262838\ttest-rmse:0.325040 \n",
            "[21]\ttrain-rmse:0.151670\ttest-rmse:0.277668 \n",
            "[31]\ttrain-rmse:0.087011\ttest-rmse:0.275112 \n",
            "[41]\ttrain-rmse:0.057422\ttest-rmse:0.281562 \n",
            "[51]\ttrain-rmse:0.038833\ttest-rmse:0.289605 \n",
            "[61]\ttrain-rmse:0.027335\ttest-rmse:0.293851 \n",
            "[71]\ttrain-rmse:0.017883\ttest-rmse:0.295402 \n",
            "[81]\ttrain-rmse:0.012405\ttest-rmse:0.296743 \n",
            "[91]\ttrain-rmse:0.007776\ttest-rmse:0.297476 \n",
            "[100]\ttrain-rmse:0.005586\ttest-rmse:0.298050 \n",
            "RMSE: 0.2980496 \n"
          ]
        }
      ]
    },
    {
      "cell_type": "markdown",
      "source": [
        "## Yardstick Method for analysis"
      ],
      "metadata": {
        "id": "7Ed_8Iw5raxG"
      }
    },
    {
      "cell_type": "code",
      "source": [
        "# Load necessary libraries\n",
        "install.packages(\"yardstick\")\n",
        "library(yardstick)\n",
        "\n",
        "# Define features (X) and target variable (y)\n",
        "X <- model.matrix(yield ~ ., data = df)[, -1]  # Remove intercept column\n",
        "y <- df$yield  # Assign target variable\n",
        "\n",
        "# Train the Linear Model\n",
        "model_step <- lm(yield ~ ., data = df)\n",
        "\n",
        "# Calculate and display Linear Model Summary\n",
        "linear_model_summary <- summary(model_step)\n",
        "\n",
        "cat(\"\\nLinear Model Summary:\\n\")\n",
        "cat(\"R-squared:\", linear_model_summary$r.squared, \"\\n\")\n",
        "cat(\"Adjusted R-squared:\", linear_model_summary$adj.r.squared, \"\\n\")\n",
        "cat(\"F-statistic:\", linear_model_summary$fstatistic[1], \"on\",\n",
        "    linear_model_summary$fstatistic[2], \"and\",\n",
        "    linear_model_summary$fstatistic[3], \"DF, p-value:\",\n",
        "    pf(linear_model_summary$fstatistic[1],\n",
        "       linear_model_summary$fstatistic[2],\n",
        "       linear_model_summary$fstatistic[3], lower.tail = FALSE), \"\\n\")\n",
        "\n",
        "# Train XGBoost Model and make predictions\n",
        "# Assuming xgb_model is your trained XGBoost model and test_label contains true values\n",
        "r_squared_xgboost <- rsquared(data.frame(truth = test_label, estimate = predictions))\n",
        "\n",
        "# Display XGBoost model summary\n",
        "cat(\"\\nXGBoost Model Summary:\\n\")\n",
        "cat(\"R-squared:\", r_squared_xgboost, \"\\n\")\n",
        "cat(\"Root Mean Squared Error (RMSE):\", rmse, \"\\n\")\n",
        "\n"
      ],
      "metadata": {
        "colab": {
          "base_uri": "https://localhost:8080/",
          "height": 263
        },
        "id": "xKfgQJbIm6rv",
        "outputId": "7df688eb-5a77-4d60-e743-0adb30928cf2"
      },
      "execution_count": null,
      "outputs": [
        {
          "output_type": "stream",
          "name": "stderr",
          "text": [
            "Installing package into ‘/usr/local/lib/R/site-library’\n",
            "(as ‘lib’ is unspecified)\n",
            "\n",
            "also installing the dependencies ‘sparsevctrs’, ‘hardhat’\n",
            "\n",
            "\n"
          ]
        },
        {
          "output_type": "stream",
          "name": "stdout",
          "text": [
            "\n",
            "Linear Model Summary:\n",
            "R-squared: 0.7092641 \n",
            "Adjusted R-squared: 0.4713892 \n",
            "F-statistic: 2.981669 on 9 and 11 DF, p-value: 0.04570449 \n"
          ]
        },
        {
          "output_type": "error",
          "ename": "ERROR",
          "evalue": "Error in rsquared(data.frame(truth = test_label, estimate = predictions)): could not find function \"rsquared\"\n",
          "traceback": [
            "Error in rsquared(data.frame(truth = test_label, estimate = predictions)): could not find function \"rsquared\"\nTraceback:\n"
          ]
        }
      ]
    },
    {
      "cell_type": "code",
      "source": [],
      "metadata": {
        "id": "g6-r8CNvrhk2"
      },
      "execution_count": null,
      "outputs": []
    }
  ]
}