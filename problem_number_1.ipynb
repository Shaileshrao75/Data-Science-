{
  "nbformat": 4,
  "nbformat_minor": 0,
  "metadata": {
    "colab": {
      "provenance": [],
      "toc_visible": true,
      "authorship_tag": "ABX9TyN933aoU70bn//XRknWAC7f",
      "include_colab_link": true
    },
    "kernelspec": {
      "name": "ir",
      "display_name": "R"
    },
    "language_info": {
      "name": "R"
    }
  },
  "cells": [
    {
      "cell_type": "markdown",
      "metadata": {
        "id": "view-in-github",
        "colab_type": "text"
      },
      "source": [
        "<a href=\"https://colab.research.google.com/github/Shaileshrao75/Data-Science-/blob/main/problem_number_1.ipynb\" target=\"_parent\"><img src=\"https://colab.research.google.com/assets/colab-badge.svg\" alt=\"Open In Colab\"/></a>"
      ]
    },
    {
      "cell_type": "markdown",
      "source": [
        "#ABILITY ENHANCEMENT COURSE"
      ],
      "metadata": {
        "id": "2w-T0U6Dzd_X"
      }
    },
    {
      "cell_type": "markdown",
      "source": [
        "#STATISTICSL LEARNING IN MANUFACTURING PROCESS"
      ],
      "metadata": {
        "id": "7PgvEzrozhSQ"
      }
    },
    {
      "cell_type": "markdown",
      "source": [
        "## DATA SELECTION FROM THE DATA BASE"
      ],
      "metadata": {
        "id": "k24hAENHzp03"
      }
    },
    {
      "cell_type": "markdown",
      "source": [
        "##Selected Data Base named \"cars\""
      ],
      "metadata": {
        "id": "53YPKgB00FIQ"
      }
    },
    {
      "cell_type": "code",
      "source": [
        "View(cars)"
      ],
      "metadata": {
        "colab": {
          "base_uri": "https://localhost:8080/",
          "height": 1000
        },
        "id": "qRlVhFjnzwB4",
        "outputId": "227f7b5b-d8ff-4994-c50c-8135f11c6c56"
      },
      "execution_count": null,
      "outputs": [
        {
          "output_type": "display_data",
          "data": {
            "text/plain": [
              "   speed dist\n",
              "1   4      2 \n",
              "2   4     10 \n",
              "3   7      4 \n",
              "4   7     22 \n",
              "5   8     16 \n",
              "6   9     10 \n",
              "7  10     18 \n",
              "8  10     26 \n",
              "9  10     34 \n",
              "10 11     17 \n",
              "11 11     28 \n",
              "12 12     14 \n",
              "13 12     20 \n",
              "14 12     24 \n",
              "15 12     28 \n",
              "16 13     26 \n",
              "17 13     34 \n",
              "18 13     34 \n",
              "19 13     46 \n",
              "20 14     26 \n",
              "21 14     36 \n",
              "22 14     60 \n",
              "23 14     80 \n",
              "24 15     20 \n",
              "25 15     26 \n",
              "26 15     54 \n",
              "27 16     32 \n",
              "28 16     40 \n",
              "29 17     32 \n",
              "30 17     40 \n",
              "31 17     50 \n",
              "32 18     42 \n",
              "33 18     56 \n",
              "34 18     76 \n",
              "35 18     84 \n",
              "36 19     36 \n",
              "37 19     46 \n",
              "38 19     68 \n",
              "39 20     32 \n",
              "40 20     48 \n",
              "41 20     52 \n",
              "42 20     56 \n",
              "43 20     64 \n",
              "44 22     66 \n",
              "45 23     54 \n",
              "46 24     70 \n",
              "47 24     92 \n",
              "48 24     93 \n",
              "49 24    120 \n",
              "50 25     85 "
            ],
            "text/html": [
              "<table class=\"dataframe\">\n",
              "<caption>A data.frame: 50 × 2</caption>\n",
              "<thead>\n",
              "\t<tr><th scope=col>speed</th><th scope=col>dist</th></tr>\n",
              "\t<tr><th scope=col>&lt;dbl&gt;</th><th scope=col>&lt;dbl&gt;</th></tr>\n",
              "</thead>\n",
              "<tbody>\n",
              "\t<tr><td> 4</td><td>  2</td></tr>\n",
              "\t<tr><td> 4</td><td> 10</td></tr>\n",
              "\t<tr><td> 7</td><td>  4</td></tr>\n",
              "\t<tr><td> 7</td><td> 22</td></tr>\n",
              "\t<tr><td> 8</td><td> 16</td></tr>\n",
              "\t<tr><td> 9</td><td> 10</td></tr>\n",
              "\t<tr><td>10</td><td> 18</td></tr>\n",
              "\t<tr><td>10</td><td> 26</td></tr>\n",
              "\t<tr><td>10</td><td> 34</td></tr>\n",
              "\t<tr><td>11</td><td> 17</td></tr>\n",
              "\t<tr><td>11</td><td> 28</td></tr>\n",
              "\t<tr><td>12</td><td> 14</td></tr>\n",
              "\t<tr><td>12</td><td> 20</td></tr>\n",
              "\t<tr><td>12</td><td> 24</td></tr>\n",
              "\t<tr><td>12</td><td> 28</td></tr>\n",
              "\t<tr><td>13</td><td> 26</td></tr>\n",
              "\t<tr><td>13</td><td> 34</td></tr>\n",
              "\t<tr><td>13</td><td> 34</td></tr>\n",
              "\t<tr><td>13</td><td> 46</td></tr>\n",
              "\t<tr><td>14</td><td> 26</td></tr>\n",
              "\t<tr><td>14</td><td> 36</td></tr>\n",
              "\t<tr><td>14</td><td> 60</td></tr>\n",
              "\t<tr><td>14</td><td> 80</td></tr>\n",
              "\t<tr><td>15</td><td> 20</td></tr>\n",
              "\t<tr><td>15</td><td> 26</td></tr>\n",
              "\t<tr><td>15</td><td> 54</td></tr>\n",
              "\t<tr><td>16</td><td> 32</td></tr>\n",
              "\t<tr><td>16</td><td> 40</td></tr>\n",
              "\t<tr><td>17</td><td> 32</td></tr>\n",
              "\t<tr><td>17</td><td> 40</td></tr>\n",
              "\t<tr><td>17</td><td> 50</td></tr>\n",
              "\t<tr><td>18</td><td> 42</td></tr>\n",
              "\t<tr><td>18</td><td> 56</td></tr>\n",
              "\t<tr><td>18</td><td> 76</td></tr>\n",
              "\t<tr><td>18</td><td> 84</td></tr>\n",
              "\t<tr><td>19</td><td> 36</td></tr>\n",
              "\t<tr><td>19</td><td> 46</td></tr>\n",
              "\t<tr><td>19</td><td> 68</td></tr>\n",
              "\t<tr><td>20</td><td> 32</td></tr>\n",
              "\t<tr><td>20</td><td> 48</td></tr>\n",
              "\t<tr><td>20</td><td> 52</td></tr>\n",
              "\t<tr><td>20</td><td> 56</td></tr>\n",
              "\t<tr><td>20</td><td> 64</td></tr>\n",
              "\t<tr><td>22</td><td> 66</td></tr>\n",
              "\t<tr><td>23</td><td> 54</td></tr>\n",
              "\t<tr><td>24</td><td> 70</td></tr>\n",
              "\t<tr><td>24</td><td> 92</td></tr>\n",
              "\t<tr><td>24</td><td> 93</td></tr>\n",
              "\t<tr><td>24</td><td>120</td></tr>\n",
              "\t<tr><td>25</td><td> 85</td></tr>\n",
              "</tbody>\n",
              "</table>\n"
            ],
            "text/markdown": "\nA data.frame: 50 × 2\n\n| speed &lt;dbl&gt; | dist &lt;dbl&gt; |\n|---|---|\n|  4 |   2 |\n|  4 |  10 |\n|  7 |   4 |\n|  7 |  22 |\n|  8 |  16 |\n|  9 |  10 |\n| 10 |  18 |\n| 10 |  26 |\n| 10 |  34 |\n| 11 |  17 |\n| 11 |  28 |\n| 12 |  14 |\n| 12 |  20 |\n| 12 |  24 |\n| 12 |  28 |\n| 13 |  26 |\n| 13 |  34 |\n| 13 |  34 |\n| 13 |  46 |\n| 14 |  26 |\n| 14 |  36 |\n| 14 |  60 |\n| 14 |  80 |\n| 15 |  20 |\n| 15 |  26 |\n| 15 |  54 |\n| 16 |  32 |\n| 16 |  40 |\n| 17 |  32 |\n| 17 |  40 |\n| 17 |  50 |\n| 18 |  42 |\n| 18 |  56 |\n| 18 |  76 |\n| 18 |  84 |\n| 19 |  36 |\n| 19 |  46 |\n| 19 |  68 |\n| 20 |  32 |\n| 20 |  48 |\n| 20 |  52 |\n| 20 |  56 |\n| 20 |  64 |\n| 22 |  66 |\n| 23 |  54 |\n| 24 |  70 |\n| 24 |  92 |\n| 24 |  93 |\n| 24 | 120 |\n| 25 |  85 |\n\n",
            "text/latex": "A data.frame: 50 × 2\n\\begin{tabular}{ll}\n speed & dist\\\\\n <dbl> & <dbl>\\\\\n\\hline\n\t  4 &   2\\\\\n\t  4 &  10\\\\\n\t  7 &   4\\\\\n\t  7 &  22\\\\\n\t  8 &  16\\\\\n\t  9 &  10\\\\\n\t 10 &  18\\\\\n\t 10 &  26\\\\\n\t 10 &  34\\\\\n\t 11 &  17\\\\\n\t 11 &  28\\\\\n\t 12 &  14\\\\\n\t 12 &  20\\\\\n\t 12 &  24\\\\\n\t 12 &  28\\\\\n\t 13 &  26\\\\\n\t 13 &  34\\\\\n\t 13 &  34\\\\\n\t 13 &  46\\\\\n\t 14 &  26\\\\\n\t 14 &  36\\\\\n\t 14 &  60\\\\\n\t 14 &  80\\\\\n\t 15 &  20\\\\\n\t 15 &  26\\\\\n\t 15 &  54\\\\\n\t 16 &  32\\\\\n\t 16 &  40\\\\\n\t 17 &  32\\\\\n\t 17 &  40\\\\\n\t 17 &  50\\\\\n\t 18 &  42\\\\\n\t 18 &  56\\\\\n\t 18 &  76\\\\\n\t 18 &  84\\\\\n\t 19 &  36\\\\\n\t 19 &  46\\\\\n\t 19 &  68\\\\\n\t 20 &  32\\\\\n\t 20 &  48\\\\\n\t 20 &  52\\\\\n\t 20 &  56\\\\\n\t 20 &  64\\\\\n\t 22 &  66\\\\\n\t 23 &  54\\\\\n\t 24 &  70\\\\\n\t 24 &  92\\\\\n\t 24 &  93\\\\\n\t 24 & 120\\\\\n\t 25 &  85\\\\\n\\end{tabular}\n"
          },
          "metadata": {}
        }
      ]
    },
    {
      "cell_type": "markdown",
      "source": [
        "## Measure of Central Tendency"
      ],
      "metadata": {
        "id": "9DKdkCPP0MpA"
      }
    },
    {
      "cell_type": "markdown",
      "source": [
        "## Mean"
      ],
      "metadata": {
        "id": "tmhZXNny1Gpp"
      }
    },
    {
      "cell_type": "code",
      "source": [
        "\n",
        "# Mean of 'speed' and 'dist' columns\n",
        "mean_speed <- mean(cars$speed)\n",
        "mean_dist <- mean(cars$dist)"
      ],
      "metadata": {
        "id": "YyCRxQD91Kgo"
      },
      "execution_count": null,
      "outputs": []
    },
    {
      "cell_type": "code",
      "source": [
        "mean_speed\n",
        "mean_dist\n"
      ],
      "metadata": {
        "colab": {
          "base_uri": "https://localhost:8080/",
          "height": 52
        },
        "id": "5eaN_sWv1pzZ",
        "outputId": "a928948c-037f-4a48-8699-b52f00c1a67d"
      },
      "execution_count": null,
      "outputs": [
        {
          "output_type": "display_data",
          "data": {
            "text/html": [
              "15.4"
            ],
            "text/markdown": "15.4",
            "text/latex": "15.4",
            "text/plain": [
              "[1] 15.4"
            ]
          },
          "metadata": {}
        },
        {
          "output_type": "display_data",
          "data": {
            "text/html": [
              "42.98"
            ],
            "text/markdown": "42.98",
            "text/latex": "42.98",
            "text/plain": [
              "[1] 42.98"
            ]
          },
          "metadata": {}
        }
      ]
    },
    {
      "cell_type": "markdown",
      "source": [
        "## Median"
      ],
      "metadata": {
        "id": "ij6sQD-D1wZp"
      }
    },
    {
      "cell_type": "code",
      "source": [
        "# Median of 'speed' and 'dist' columns\n",
        "median_speed <- median(cars$speed)\n",
        "median_dist <- median(cars$dist)"
      ],
      "metadata": {
        "id": "xx2HaAPC1REo"
      },
      "execution_count": null,
      "outputs": []
    },
    {
      "cell_type": "code",
      "source": [
        "median_speed\n",
        "median_dist"
      ],
      "metadata": {
        "colab": {
          "base_uri": "https://localhost:8080/",
          "height": 52
        },
        "id": "AUJLVDLP11iY",
        "outputId": "bbd0dbf7-ae78-4778-f36a-2fc0aa5795b7"
      },
      "execution_count": null,
      "outputs": [
        {
          "output_type": "display_data",
          "data": {
            "text/html": [
              "15"
            ],
            "text/markdown": "15",
            "text/latex": "15",
            "text/plain": [
              "[1] 15"
            ]
          },
          "metadata": {}
        },
        {
          "output_type": "display_data",
          "data": {
            "text/html": [
              "36"
            ],
            "text/markdown": "36",
            "text/latex": "36",
            "text/plain": [
              "[1] 36"
            ]
          },
          "metadata": {}
        }
      ]
    },
    {
      "cell_type": "markdown",
      "source": [
        "## Correlation"
      ],
      "metadata": {
        "id": "nhKjOPqb172Y"
      }
    },
    {
      "cell_type": "code",
      "source": [
        "# prompt: correlation between variables\n",
        "\n",
        "cor(cars$speed, cars$dist)\n",
        "cor(cars)\n",
        "\n"
      ],
      "metadata": {
        "colab": {
          "base_uri": "https://localhost:8080/",
          "height": 147
        },
        "id": "bPhxbrpR1-wA",
        "outputId": "596a6a7d-ef9b-40f2-d1bd-9cd7bd6db34d"
      },
      "execution_count": null,
      "outputs": [
        {
          "output_type": "display_data",
          "data": {
            "text/html": [
              "0.80689490068921"
            ],
            "text/markdown": "0.80689490068921",
            "text/latex": "0.80689490068921",
            "text/plain": [
              "[1] 0.8068949"
            ]
          },
          "metadata": {}
        },
        {
          "output_type": "display_data",
          "data": {
            "text/html": [
              "<table class=\"dataframe\">\n",
              "<caption>A matrix: 2 × 2 of type dbl</caption>\n",
              "<thead>\n",
              "\t<tr><th></th><th scope=col>speed</th><th scope=col>dist</th></tr>\n",
              "</thead>\n",
              "<tbody>\n",
              "\t<tr><th scope=row>speed</th><td>1.0000000</td><td>0.8068949</td></tr>\n",
              "\t<tr><th scope=row>dist</th><td>0.8068949</td><td>1.0000000</td></tr>\n",
              "</tbody>\n",
              "</table>\n"
            ],
            "text/markdown": "\nA matrix: 2 × 2 of type dbl\n\n| <!--/--> | speed | dist |\n|---|---|---|\n| speed | 1.0000000 | 0.8068949 |\n| dist | 0.8068949 | 1.0000000 |\n\n",
            "text/latex": "A matrix: 2 × 2 of type dbl\n\\begin{tabular}{r|ll}\n  & speed & dist\\\\\n\\hline\n\tspeed & 1.0000000 & 0.8068949\\\\\n\tdist & 0.8068949 & 1.0000000\\\\\n\\end{tabular}\n",
            "text/plain": [
              "      speed     dist     \n",
              "speed 1.0000000 0.8068949\n",
              "dist  0.8068949 1.0000000"
            ]
          },
          "metadata": {}
        }
      ]
    },
    {
      "cell_type": "markdown",
      "source": [
        "## Covariance"
      ],
      "metadata": {
        "id": "piinG6Nd2N84"
      }
    },
    {
      "cell_type": "code",
      "source": [
        "# prompt: covarinance\n",
        "\n",
        "cov(cars$speed, cars$dist)\n",
        "cov(cars)\n"
      ],
      "metadata": {
        "colab": {
          "base_uri": "https://localhost:8080/",
          "height": 147
        },
        "id": "WiVxfp372JSD",
        "outputId": "1bbbd1b6-7720-459c-b952-f7ec99b8350f"
      },
      "execution_count": null,
      "outputs": [
        {
          "output_type": "display_data",
          "data": {
            "text/html": [
              "109.94693877551"
            ],
            "text/markdown": "109.94693877551",
            "text/latex": "109.94693877551",
            "text/plain": [
              "[1] 109.9469"
            ]
          },
          "metadata": {}
        },
        {
          "output_type": "display_data",
          "data": {
            "text/html": [
              "<table class=\"dataframe\">\n",
              "<caption>A matrix: 2 × 2 of type dbl</caption>\n",
              "<thead>\n",
              "\t<tr><th></th><th scope=col>speed</th><th scope=col>dist</th></tr>\n",
              "</thead>\n",
              "<tbody>\n",
              "\t<tr><th scope=row>speed</th><td> 27.95918</td><td>109.9469</td></tr>\n",
              "\t<tr><th scope=row>dist</th><td>109.94694</td><td>664.0608</td></tr>\n",
              "</tbody>\n",
              "</table>\n"
            ],
            "text/markdown": "\nA matrix: 2 × 2 of type dbl\n\n| <!--/--> | speed | dist |\n|---|---|---|\n| speed |  27.95918 | 109.9469 |\n| dist | 109.94694 | 664.0608 |\n\n",
            "text/latex": "A matrix: 2 × 2 of type dbl\n\\begin{tabular}{r|ll}\n  & speed & dist\\\\\n\\hline\n\tspeed &  27.95918 & 109.9469\\\\\n\tdist & 109.94694 & 664.0608\\\\\n\\end{tabular}\n",
            "text/plain": [
              "      speed     dist    \n",
              "speed  27.95918 109.9469\n",
              "dist  109.94694 664.0608"
            ]
          },
          "metadata": {}
        }
      ]
    },
    {
      "cell_type": "markdown",
      "source": [
        "## Quartile"
      ],
      "metadata": {
        "id": "6df2oGJV2gsc"
      }
    },
    {
      "cell_type": "code",
      "source": [
        "# prompt: quartile\n",
        "\n",
        "# Quantiles (Quartiles)\n",
        "quantile_speed <- quantile(cars$speed)\n",
        "quantile_dist <- quantile(cars$dist)\n",
        "quantile_speed\n",
        "quantile_dist\n"
      ],
      "metadata": {
        "colab": {
          "base_uri": "https://localhost:8080/",
          "height": 52
        },
        "id": "rgefSVGo2Qdp",
        "outputId": "f2526db6-9a51-42cc-fdb5-347840d23a77"
      },
      "execution_count": null,
      "outputs": [
        {
          "output_type": "display_data",
          "data": {
            "text/html": [
              "<style>\n",
              ".dl-inline {width: auto; margin:0; padding: 0}\n",
              ".dl-inline>dt, .dl-inline>dd {float: none; width: auto; display: inline-block}\n",
              ".dl-inline>dt::after {content: \":\\0020\"; padding-right: .5ex}\n",
              ".dl-inline>dt:not(:first-of-type) {padding-left: .5ex}\n",
              "</style><dl class=dl-inline><dt>0%</dt><dd>4</dd><dt>25%</dt><dd>12</dd><dt>50%</dt><dd>15</dd><dt>75%</dt><dd>19</dd><dt>100%</dt><dd>25</dd></dl>\n"
            ],
            "text/markdown": "0%\n:   425%\n:   1250%\n:   1575%\n:   19100%\n:   25\n\n",
            "text/latex": "\\begin{description*}\n\\item[0\\textbackslash{}\\%] 4\n\\item[25\\textbackslash{}\\%] 12\n\\item[50\\textbackslash{}\\%] 15\n\\item[75\\textbackslash{}\\%] 19\n\\item[100\\textbackslash{}\\%] 25\n\\end{description*}\n",
            "text/plain": [
              "  0%  25%  50%  75% 100% \n",
              "   4   12   15   19   25 "
            ]
          },
          "metadata": {}
        },
        {
          "output_type": "display_data",
          "data": {
            "text/html": [
              "<style>\n",
              ".dl-inline {width: auto; margin:0; padding: 0}\n",
              ".dl-inline>dt, .dl-inline>dd {float: none; width: auto; display: inline-block}\n",
              ".dl-inline>dt::after {content: \":\\0020\"; padding-right: .5ex}\n",
              ".dl-inline>dt:not(:first-of-type) {padding-left: .5ex}\n",
              "</style><dl class=dl-inline><dt>0%</dt><dd>2</dd><dt>25%</dt><dd>26</dd><dt>50%</dt><dd>36</dd><dt>75%</dt><dd>56</dd><dt>100%</dt><dd>120</dd></dl>\n"
            ],
            "text/markdown": "0%\n:   225%\n:   2650%\n:   3675%\n:   56100%\n:   120\n\n",
            "text/latex": "\\begin{description*}\n\\item[0\\textbackslash{}\\%] 2\n\\item[25\\textbackslash{}\\%] 26\n\\item[50\\textbackslash{}\\%] 36\n\\item[75\\textbackslash{}\\%] 56\n\\item[100\\textbackslash{}\\%] 120\n\\end{description*}\n",
            "text/plain": [
              "  0%  25%  50%  75% 100% \n",
              "   2   26   36   56  120 "
            ]
          },
          "metadata": {}
        }
      ]
    },
    {
      "cell_type": "markdown",
      "source": [
        "## Quartile with table"
      ],
      "metadata": {
        "id": "KlMZpBtT2fcB"
      }
    },
    {
      "cell_type": "code",
      "source": [
        "# prompt: Quartile* with table\n",
        "\n",
        "quantile(cars$speed, probs = c(0, 0.25, 0.5, 0.75, 1), type = 5)\n",
        "quantile(cars$dist, probs = c(0, 0.25, 0.5, 0.75, 1), type = 5)\n",
        "# Or use the summary() function:\n",
        "summary(cars)\n"
      ],
      "metadata": {
        "colab": {
          "base_uri": "https://localhost:8080/",
          "height": 173
        },
        "id": "f1QPq_yX2mWZ",
        "outputId": "eaf824ba-266d-4090-ac93-33c4f3a28053"
      },
      "execution_count": null,
      "outputs": [
        {
          "output_type": "display_data",
          "data": {
            "text/html": [
              "<style>\n",
              ".dl-inline {width: auto; margin:0; padding: 0}\n",
              ".dl-inline>dt, .dl-inline>dd {float: none; width: auto; display: inline-block}\n",
              ".dl-inline>dt::after {content: \":\\0020\"; padding-right: .5ex}\n",
              ".dl-inline>dt:not(:first-of-type) {padding-left: .5ex}\n",
              "</style><dl class=dl-inline><dt>0%</dt><dd>4</dd><dt>25%</dt><dd>12</dd><dt>50%</dt><dd>15</dd><dt>75%</dt><dd>19</dd><dt>100%</dt><dd>25</dd></dl>\n"
            ],
            "text/markdown": "0%\n:   425%\n:   1250%\n:   1575%\n:   19100%\n:   25\n\n",
            "text/latex": "\\begin{description*}\n\\item[0\\textbackslash{}\\%] 4\n\\item[25\\textbackslash{}\\%] 12\n\\item[50\\textbackslash{}\\%] 15\n\\item[75\\textbackslash{}\\%] 19\n\\item[100\\textbackslash{}\\%] 25\n\\end{description*}\n",
            "text/plain": [
              "  0%  25%  50%  75% 100% \n",
              "   4   12   15   19   25 "
            ]
          },
          "metadata": {}
        },
        {
          "output_type": "display_data",
          "data": {
            "text/html": [
              "<style>\n",
              ".dl-inline {width: auto; margin:0; padding: 0}\n",
              ".dl-inline>dt, .dl-inline>dd {float: none; width: auto; display: inline-block}\n",
              ".dl-inline>dt::after {content: \":\\0020\"; padding-right: .5ex}\n",
              ".dl-inline>dt:not(:first-of-type) {padding-left: .5ex}\n",
              "</style><dl class=dl-inline><dt>0%</dt><dd>2</dd><dt>25%</dt><dd>26</dd><dt>50%</dt><dd>36</dd><dt>75%</dt><dd>56</dd><dt>100%</dt><dd>120</dd></dl>\n"
            ],
            "text/markdown": "0%\n:   225%\n:   2650%\n:   3675%\n:   56100%\n:   120\n\n",
            "text/latex": "\\begin{description*}\n\\item[0\\textbackslash{}\\%] 2\n\\item[25\\textbackslash{}\\%] 26\n\\item[50\\textbackslash{}\\%] 36\n\\item[75\\textbackslash{}\\%] 56\n\\item[100\\textbackslash{}\\%] 120\n\\end{description*}\n",
            "text/plain": [
              "  0%  25%  50%  75% 100% \n",
              "   2   26   36   56  120 "
            ]
          },
          "metadata": {}
        },
        {
          "output_type": "display_data",
          "data": {
            "text/plain": [
              "     speed           dist       \n",
              " Min.   : 4.0   Min.   :  2.00  \n",
              " 1st Qu.:12.0   1st Qu.: 26.00  \n",
              " Median :15.0   Median : 36.00  \n",
              " Mean   :15.4   Mean   : 42.98  \n",
              " 3rd Qu.:19.0   3rd Qu.: 56.00  \n",
              " Max.   :25.0   Max.   :120.00  "
            ]
          },
          "metadata": {}
        }
      ]
    }
  ]
}